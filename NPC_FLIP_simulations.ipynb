{
 "cells": [
  {
   "cell_type": "markdown",
   "metadata": {
    "id": "B2tRS9-cguy0"
   },
   "source": [
    "# Experimentation with stochastic ODE solver\n"
   ]
  },
  {
   "cell_type": "code",
   "execution_count": null,
   "metadata": {
    "id": "0IwBQzFs4gOM"
   },
   "outputs": [],
   "source": []
  },
  {
   "cell_type": "code",
   "execution_count": 40,
   "metadata": {
    "ExecuteTime": {
     "end_time": "2020-12-15T12:49:48.343504Z",
     "start_time": "2020-12-15T12:49:45.157801Z"
    },
    "colab": {
     "base_uri": "https://localhost:8080/"
    },
    "id": "ZQHuyui-EPko",
    "outputId": "d0c2590c-8225-4d52-af0c-7b0aba6a9a71"
   },
   "outputs": [
    {
     "name": "stdout",
     "output_type": "stream",
     "text": [
      "Requirement already satisfied: sdeint in /Users/Admin/Public/anaconda3/envs/py36/lib/python3.6/site-packages (0.2.1)\r\n",
      "Requirement already satisfied: numpy>=1.6 in /Users/Admin/Public/anaconda3/envs/py36/lib/python3.6/site-packages (from sdeint) (1.19.2)\r\n"
     ]
    }
   ],
   "source": [
    "!pip install sdeint"
   ]
  },
  {
   "cell_type": "code",
   "execution_count": 41,
   "metadata": {
    "ExecuteTime": {
     "end_time": "2020-12-15T12:49:48.842603Z",
     "start_time": "2020-12-15T12:49:48.346934Z"
    },
    "colab": {
     "base_uri": "https://localhost:8080/",
     "height": 282
    },
    "id": "n5Dfd-9MET42",
    "outputId": "57e96e7b-d455-4b87-8167-c068edc7e3c9"
   },
   "outputs": [
    {
     "data": {
      "text/plain": [
       "<matplotlib.collections.PathCollection at 0x7fcb08acc320>"
      ]
     },
     "execution_count": 41,
     "metadata": {},
     "output_type": "execute_result"
    },
    {
     "data": {
      "image/png": "[encoded data removed]",
      "text/plain": [
       "<Figure size 432x288 with 1 Axes>"
      ]
     },
     "metadata": {
      "needs_background": "light"
     },
     "output_type": "display_data"
    }
   ],
   "source": [
    "import numpy as np\n",
    "import sdeint\n",
    "import matplotlib.pyplot as plt\n",
    "\n",
    "\n",
    "a = 1.0\n",
    "b = 0.8\n",
    "tspan = np.linspace(0.0, 5.0, 5001)\n",
    "x0 = 0.1\n",
    "\n",
    "def f(x, t):\n",
    "    return -(a + x*b**2)*(1 - x**2)\n",
    "\n",
    "def g(x, t):\n",
    "    return b*(1 - x**2)\n",
    "\n",
    "result = sdeint.itoint(f, g, x0, tspan)\n",
    "\n",
    "plt.scatter(tspan, result)"
   ]
  },
  {
   "cell_type": "markdown",
   "metadata": {
    "id": "0dYkHdxwg_v_"
   },
   "source": [
    "# Model variables - legend:"
   ]
  },
  {
   "cell_type": "markdown",
   "metadata": {
    "id": "3tkGWF-iszq5"
   },
   "source": [
    "complexL/U - importin-cargo complex, labeled (L) or unlabeled (U) \n",
    "\n",
    "freeL/U - free cargo, labeled (L) or unlabeled (U) \n",
    "\n",
    "c - concentration\n",
    "\n",
    "v - volume\n",
    "\n",
    "C - cytoplasm\n",
    "\n",
    "N - nucleues\n",
    "\n",
    "NPC - nuclear pore complex\n",
    "\n",
    "nmol - number of molecules\n",
    "\n",
    "M - molar (moles per liter)\n",
    "\n",
    "L - liter\n",
    "\n",
    "fL - femtoliter\n"
   ]
  },
  {
   "cell_type": "code",
   "execution_count": null,
   "metadata": {
    "id": "qJdluKoeElzE"
   },
   "outputs": [],
   "source": []
  },
  {
   "cell_type": "markdown",
   "metadata": {
    "id": "WbQy_uW8lzIR"
   },
   "source": [
    "# Class for simulating transport using ODEs"
   ]
  },
  {
   "cell_type": "code",
   "execution_count": null,
   "metadata": {},
   "outputs": [],
   "source": []
  },
  {
   "cell_type": "code",
   "execution_count": 421,
   "metadata": {
    "ExecuteTime": {
     "end_time": "2020-12-15T15:55:29.694169Z",
     "start_time": "2020-12-15T15:55:29.615154Z"
    },
    "id": "EFB0CCNeyYPC"
   },
   "outputs": [],
   "source": [
    "import numpy as np\n",
    "import re\n",
    "\n",
    "N_A= 6.022e+23 # Avogadro's number \n",
    "\n",
    "# TODO: test\n",
    "def fL_to_L(v_fL):\n",
    "  ''' convert femtoliters to liters '''\n",
    "  return v_fL*1E-15\n",
    "\n",
    "class TransportSimulation():\n",
    "\n",
    "  ###########################################\n",
    "  # getter/setter functions / utility\n",
    "  ###########################################\n",
    "\n",
    "  def set_nmol(self, species, value):\n",
    "    self.nmol[species]= value\n",
    "\n",
    "  def get_nmol(self, species):\n",
    "    return self.nmol[species]\n",
    "\n",
    "  def get_compartment(self, species):\n",
    "    m= re.search(\"_([a-zA-Z]*)$\", species)\n",
    "    if m is None:\n",
    "        raise ValueError(f\"Can't parse compartment from species {species}\")\n",
    "    return m.group(1)\n",
    "\n",
    "  def get_compartment_volume_L(self, species):\n",
    "    compt= self.get_compartment(species)\n",
    "    if compt==\"N\":\n",
    "      return self.v_N_L\n",
    "    elif compt==\"C\":\n",
    "      return self.v_C_L\n",
    "    elif compt==\"cell\":\n",
    "      return self.v_N_L + self.v_C_L\n",
    "    else:\n",
    "      raise ValueError(f\"Only nucleus/cytoplasm/cell has a volume (species {species} compartment {compt})\") \n",
    "\n",
    "  def set_concentration_M(self, species, c_M):\n",
    "    ''' \n",
    "    Sets the concentration of specified speciecs to c_M (in M units) \n",
    "    @raise ValueError if compartment has no volume\n",
    "    '''\n",
    "    global N_A\n",
    "    v_L= self.get_compartment_volume_L(species)\n",
    "    self.nmol[species]= c_M * v_L * N_A\n",
    "\n",
    "  def get_concentration_M(self, species):\n",
    "    ''' \n",
    "    returns the concentrations of specied species in its compartment \n",
    "    @raise ValueError if compartment has no volume\n",
    "    '''\n",
    "    global N_A\n",
    "    v_L= self.get_compartment_volume_L(species)\n",
    "    return self.nmol[species]/(N_A*v_L)\n",
    "\n",
    "  def set_RAN_distribution(self,\n",
    "                           Ran_cell_M,\n",
    "                           parts_GTP_N,\n",
    "                           parts_GTP_C,\n",
    "                           parts_GDP_N,\n",
    "                           parts_GDP_C):\n",
    "    '''\n",
    "    Sets the RAN distribution among compartments based on relative parts specified, s.t. total concentration is constant\n",
    "\n",
    "    @param Ran_cell_M - total Ran concentration in cell\n",
    "    @param GTP_N, GTP_C, GDP_N, GDP_C - relative quantities of all Ran species in nucleus (N) and cytoplasm (N)\n",
    "    '''\n",
    "    global N_A\n",
    "    RAN_distribution = np.array([parts_GTP_N, parts_GTP_C,\n",
    "                                 parts_GDP_N, parts_GDP_C]) \n",
    "    RAN_distribution = RAN_distribution/np.sum(RAN_distribution) # normalize to 1\n",
    "    nmol_Ran_cell= Ran_cell_M * (self.v_N_L + self.v_C_L) * N_A \n",
    "    self.nmol[\"GTP_N\"] = nmol_Ran_cell * RAN_distribution[0]\n",
    "    self.nmol[\"GTP_C\"] = nmol_Ran_cell * RAN_distribution[1]\n",
    "    self.nmol[\"GDP_N\"] = nmol_Ran_cell * RAN_distribution[2]\n",
    "    self.nmol[\"GDP_C\"] = nmol_Ran_cell * RAN_distribution[3]\n",
    "\n",
    "  def set_v_N_L(self, v_L):\n",
    "    self.v_N_L= v_L\n",
    "  \n",
    "  def set_v_C_L(self, v_L):\n",
    "    self.v_C_L= v_L\n",
    "\n",
    "  def get_v_N_L(self):\n",
    "    return self.v_N_L\n",
    "  \n",
    "  def get_v_C_L(self):\n",
    "    return self.v_C_L\n",
    "\n",
    "  def get_v_cell_L(self):\n",
    "    return self.v_N_L + self.v_C_L\n",
    "\n",
    "  def set_time_step(self, dt_sec):\n",
    "    ''' set time step in seconds '''\n",
    "    self.dt_sec= dt_sec\n",
    "\n",
    "  def get_time_step(self, dt_sec):\n",
    "    ''' get time step in seconds '''\n",
    "    self.dt_sec= dt_sec  \n",
    "    \n",
    "  def reset_simulation_time(self):\n",
    "    self.sim_time_sec= 0.0\n",
    "\n",
    "\n",
    "  ###################\n",
    "  # Consturctor (and init functions)\n",
    "  ###################\n",
    "\n",
    "  def set_params(self, **kwargs):\n",
    "    for param, value in kwargs.items():\n",
    "        assert hasattr(self, param)\n",
    "        setattr(self, param, value)\n",
    "\n",
    "  def _init_simulation_parameters(self, **kwargs):\n",
    "    # TODO: add all simulation parameters here with proper units\n",
    "    self.dt_sec = 1e-4 # simulation time step  \n",
    "    # NPC dock capacity:\n",
    "    n_NPCs= 200 # (maximal estimate from Timney et al. 2016 paper)\n",
    "    n_dock_sites_per_NPC= 500 #  dock sites for cargo-importin complexes per NPC, rule of thumb estimate  # TODO: this may depend on molecule size\n",
    "    self.NPC_dock_sites = n_NPCs * n_dock_sites_per_NPC # total capacity for cargo-importin complexes in entire NPC, in number of molecules\n",
    "    # Rates:  # TODO: change nmol to nmolec - to prevent confusion between moles and molecules\n",
    "    self.rate_complex_to_NPC_per_free_site_per_sec_per_M = 50000.0e+6/self.NPC_dock_sites # the fraction of cargo-importin complexes that will dock to avaialble NPC dock sites per second (from either cytoplasm or nucleus)\n",
    "    self.fraction_complex_NPC_to_free_N_per_M_GTP_per_sec = 0.005e+6\n",
    "    self.fraction_complex_N_to_free_N_per_M_GTP_per_sec = 0.005e+6\n",
    "    self.fraction_complex_NPC_to_complex_N_C_per_sec= 1.0\n",
    "    self.rate_GDP_N_to_GTP_N_per_sec= 200.0\n",
    "    self.rate_GTP_N_to_GDP_N_per_sec= 0.2\n",
    "    self.rate_GTP_C_to_GDP_C_per_sec= 500.0\n",
    "    self.rate_GTP_N_to_GTP_C_per_sec = 0.15\n",
    "    self.rate_GDP_C_to_GDP_N_per_sec = 0.2\n",
    "    self.rate_GDP_N_to_GDP_C_per_sec = 0.2\n",
    "    self.rate_complex_C_to_free_C_per_sec = 0.05       \n",
    "    self.rate_free_to_complex_per_sec = 0.10 # assuming importins are not rate limiting in either cytoplasm aor nucleus and have identical concentration\n",
    "    self.passive_competition_weight= 0.0 # a number between 0.0 and 1.0 quantifying the weight of competition # TODO: this could be a flag\n",
    "    self.max_passive_diffusion_rate_nmol_per_sec_per_M= 20000 # as the name suggests, without accounting for competition effects # TODO: in future, a single number for both import and export that is independent of C/N volumes, # of NPCs etc\n",
    "    self.bleach_volume_L_per_sec= 1.0e-15 # cytoplasmic cargo volume being bleached per second\n",
    "    self.bleach_start_time_sec= np.inf # no bleaching by default\n",
    "    self.set_params(**kwargs)\n",
    "\n",
    "\n",
    "  def __init__(self, **kwargs):\n",
    "    ''' Set initial state of the simulation '''\n",
    "    self._init_simulation_parameters(**kwargs)\n",
    "    self.sim_time_sec= 0.0\n",
    "    self.nmol= {} # number of molecules of various species\n",
    "    # Cell geometry:\n",
    "    self.v_C_L= 10e-15 # Cytoplsmic volume in L\n",
    "    self.v_N_L= 3e-15 # Nuclear volume in L\n",
    "     # NPC:\n",
    "    self.nmol[\"complexL_NPC\"]= 1e0 # number of cargo-importin complexes docked to the NPC (labeled)\n",
    "    self.nmol[\"complexU_NPC\"]= 0 # (unlabeled)\n",
    "    # Cytoplasm:\n",
    "    self.set_concentration_M(\"cargo_C\", 50e-6)  # Nuclear concentration of labeled cargo in M\n",
    "    self.nmol[\"complexL_C\"]=  self.get_nmol(\"cargo_C\")*0.25 # number of cargo-importin complexes in cytoplasm (labeled)\n",
    "    self.nmol[\"freeL_C\"]= self.nmol[\"cargo_C\"] - self.nmol[\"complexL_C\"] # number of free cargo molecules in cytoplasm (labeled)\n",
    "    self.nmol[\"complexU_C\"]= 0 # (unlabeled)\n",
    "    self.nmol[\"freeU_C\"]= 0 # (unlabeled)\n",
    "    del self.nmol[\"cargo_C\"]\n",
    "    # Nucleus:\n",
    "    self.set_concentration_M(\"cargo_N\", 0e-5)  # Nuclear concentration of labeled cargo in M\n",
    "    self.nmol[\"complexL_N\"] = 0 # number of cargo-importin complexes in nucleus (labeled)\n",
    "    self.nmol[\"freeL_N\"]= self.nmol[\"cargo_N\"] - self.nmol[\"complexL_N\"] # number of free cargo molecules in nucleus (labeled)\n",
    "    self.nmol[\"complexU_N\"]= 0 # (unlabeled)\n",
    "    self.nmol[\"freeU_N\"]= 0 # (unlabeled)\n",
    "    del self.nmol[\"cargo_N\"] \n",
    "    # Ran in all:\n",
    "    self.set_RAN_distribution(Ran_cell_M= 2e-5, # total physiological concentration of Ran # TODO: check in the literature \n",
    "                              parts_GTP_N=1000,\n",
    "                              parts_GTP_C=1,\n",
    "                              parts_GDP_N=1,\n",
    "                              parts_GDP_C=1000)\n",
    " \n",
    "  ##########################\n",
    "  # Transitions calculators:\n",
    "  ########################\n",
    "\n",
    "  def get_nmol_complex_NPC_to_free_N(self):\n",
    "      \"\"\"\n",
    "      Number of labeled cargo molecules released from the NPC to the nucleus over a self.dt_sec time step\n",
    "      (Note: it is assumed each undocking leads to export of a single RanGTP molecule)\n",
    "\n",
    "      Return: dictionary with number of molecules to add/subtract from each species\n",
    "      \"\"\"\n",
    "      #return float(int(np.power(nmol_GTP_N/max_RAN, 5)*nmol_NPC))\n",
    "      f= self.fraction_complex_NPC_to_free_N_per_M_GTP_per_sec  \\\n",
    "        * self.get_concentration_M(\"GTP_N\") \\\n",
    "        * self.dt_sec\n",
    "      nL= f * self.nmol[\"complexL_NPC\"] \n",
    "      nU= f * self.nmol[\"complexU_NPC\"] \n",
    "      n= nL+nU\n",
    "      assert n <= self.nmol[\"GTP_N\"] and nL <= self.nmol[\"complexL_NPC\"] and nU <= self.nmol[\"complexU_NPC\"]            \n",
    "      return {\"complexL_NPC\": -nL,\n",
    "              \"freeL_N\": +nL,\n",
    "              \"complexU_NPC\": -nU,\n",
    "              \"freeU_N\": +nU,\n",
    "              \"GTP_N\": -n,\n",
    "              \"GTP_C\": +n}\n",
    " \n",
    "\n",
    "  def get_nmol_complex_N_to_free_N(self):\n",
    "      \"\"\"\n",
    "      Number of labeled cargo molecules that disassemble in the nucleus over a self.dt_sec time step\n",
    "      Note: it is assumed each undocking leads to export of a single RanGTP molecule instantaneously\n",
    "\n",
    "      Return: dictionary with number of molecules to add/subtract from each species\n",
    "      \"\"\"\n",
    "      #return float(int(np.power(nmol_GTP_N/max_RAN, 5)*nmol_NPC))\n",
    "      c_GTP_N_M= self.get_concentration_M(\"GTP_N\")\n",
    "      f= self.fraction_complex_N_to_free_N_per_M_GTP_per_sec \\\n",
    "                        * self.get_concentration_M(\"GTP_N\") \\\n",
    "                        * self.dt_sec\n",
    "      nL= f * self.nmol[\"complexL_N\"] \n",
    "      nU= f * self.nmol[\"complexU_N\"] \n",
    "      n= nL+nU                      \n",
    " #     print(\"n {} GTP_N {} complex_N {}\".format(n, self.nmol[\"GTP_N\"], self.nmol[\"complex_N\"]))\n",
    "      assert n <= self.nmol[\"GTP_N\"] and nL <= self.nmol[\"complexL_N\"] and nU <= self.nmol[\"complexU_N\"]            \n",
    "      return {\"complexL_N\": -nL,\n",
    "              \"freeL_N\": +nL,\n",
    "              \"complexU_N\": -nU,\n",
    "              \"freeU_N\": +nU,\n",
    "              \"GTP_N\": -n,\n",
    "              \"GTP_C\": +n}\n",
    " \n",
    "\n",
    "  def get_nmol_GDP_N_to_GTP_N(self):\n",
    "      \"\"\"\n",
    "      Number of GDP molecules in the nucleus converted to GTP\n",
    "\n",
    "      Return: dictionary with number of molecules to add/subtract from each species\n",
    "      \"\"\"\n",
    "      n1= self.rate_GDP_N_to_GTP_N_per_sec \\\n",
    "        * self.nmol[\"GDP_N\"] \\\n",
    "        * self.dt_sec\n",
    "      n2= self.rate_GTP_N_to_GDP_N_per_sec \\\n",
    "        * self.nmol[\"GTP_N\"] \\\n",
    "        * self.dt_sec\n",
    "      n= n1-n2\n",
    "      return {\"GDP_N\": -n, \n",
    "              \"GTP_N\": +n}\n",
    "\n",
    "  def get_nmol_GTP_C_to_GDP_C(self):\n",
    "      \"\"\"\n",
    "      Number of GTP molecules in the cytoplasm converted to GDP\n",
    "\n",
    "      Return: dictionary with number of molecules to add/subtract from each species\n",
    "      \"\"\"\n",
    "      n= self.rate_GTP_C_to_GDP_C_per_sec \\\n",
    "        * self.nmol[\"GTP_C\"] \\\n",
    "        * self.dt_sec\n",
    "      return {\"GTP_C\": -n, \n",
    "              \"GDP_C\": +n}\n",
    "\n",
    "  def get_nmol_GTP_N_to_GTP_C(self):\n",
    "      \"\"\"\n",
    "      Number of GTP molecules exported from the nucleus\n",
    "\n",
    "      Return: dictionary with number of molecules to add/subtract from each species\n",
    "      \"\"\"\n",
    "\n",
    "      n= self.rate_GTP_N_to_GTP_C_per_sec \\\n",
    "        * self.nmol[\"GTP_N\"] \\\n",
    "        * self.dt_sec\n",
    "      return {\"GTP_N\": -n,\n",
    "              \"GTP_C\": +n}\n",
    "\n",
    "  def get_nmol_GDP_C_to_GDP_N(self):\n",
    "      \"\"\"\n",
    "      Number of GDP molecules imported to the nucleus\n",
    "\n",
    "      Return: dictionary with number of molecules to add/subtract from each species\n",
    "      \"\"\"\n",
    "      n1= self.rate_GDP_C_to_GDP_N_per_sec \\\n",
    "        * self.nmol[\"GDP_C\"] \\\n",
    "        * self.dt_sec\n",
    "      n2= self.rate_GDP_N_to_GDP_C_per_sec \\\n",
    "        * self.nmol[\"GDP_N\"] \\\n",
    "        * self.dt_sec\n",
    "      n= n1-n2\n",
    "      return {\"GDP_C\": -n,\n",
    "              \"GDP_N\": +n}\n",
    "\n",
    "  def get_nmol_complex_C_to_free_C(self):\n",
    "      \"\"\"\n",
    "      The number of cargo-importin complexes that unbind importin over time step dt_sec\n",
    "\n",
    "      Return: dictionary with number of molecules to add/subtract from each species\n",
    "      \"\"\"\n",
    "      f= self.rate_complex_C_to_free_C_per_sec \\\n",
    "        * self.dt_sec\n",
    "      nL= f * self.nmol[\"complexL_C\"]\n",
    "      nU= f * self.nmol[\"complexU_C\"]\n",
    "      assert(nL <= self.nmol[\"complexL_C\"])\n",
    "      assert(nU <= self.nmol[\"complexU_C\"])\n",
    "      return  {\"complexL_C\": -nL,\n",
    "               \"freeL_C\": +nL,               \n",
    "               \"complexU_C\": -nU,\n",
    "               \"freeU_C\": +nU}\n",
    "\n",
    "  def get_nmol_free_C_to_complex_C(self): # assume importin is not rate limiting\n",
    "      \"\"\"\n",
    "      The number of the labeled molecules that bind to importin over time step dt_sec\n",
    "      in the cytoplasm\n",
    "\n",
    "      Return: dictionary with number of molecules to add/subtract from each species\n",
    "      \"\"\"\n",
    "      f= self.rate_free_to_complex_per_sec \\\n",
    "        * self.dt_sec\n",
    "      nL= f * self.nmol[\"freeL_C\"]\n",
    "      nU= f * self.nmol[\"freeU_C\"]\n",
    "      assert(nL <= self.nmol[\"freeL_C\"])\n",
    "      assert(nU <= self.nmol[\"freeU_C\"])\n",
    "      return  {\"freeL_C\": -nL,\n",
    "               \"complexL_C\": +nL,               \n",
    "               \"freeU_C\": -nU,\n",
    "               \"complexU_C\": +nU}\n",
    "\n",
    "  def get_nmol_free_N_to_complex_N(self): # assume importin is not rate limiting\n",
    "      \"\"\"\n",
    "      The number of the labeled molecules that bind to importin over time step dt_sec\n",
    "      in the nucleus\n",
    "\n",
    "      Return: dictionary with number of molecules to add/subtract from each species\n",
    "      \"\"\"\n",
    "      f= self.rate_free_to_complex_per_sec \\\n",
    "        * self.dt_sec\n",
    "      nL= f * self.nmol[\"freeL_N\"]\n",
    "      nU= f * self.nmol[\"freeU_N\"]\n",
    "      assert(nL <= self.nmol[\"freeL_N\"])\n",
    "      assert(nU <= self.nmol[\"freeU_N\"])\n",
    "      return  {\"freeL_N\": -nL,\n",
    "               \"complexL_N\": +nL,               \n",
    "               \"freeU_N\": -nU,\n",
    "               \"complexU_N\": +nU}\n",
    "\n",
    "\n",
    "  def get_free_N_to_free_C(self): # passive\n",
    "      \"\"\"\n",
    "      Computes the net number of unbound molecules in the nucleus that passively export \n",
    "      to the cytoplasm per second (net = export - import)\n",
    "\n",
    "      Return: dictionary with number of molecules to add/subtract from each species\n",
    "\n",
    "      # COMMENT: a proper treatment of this would depend on ratio between nuclear \n",
    "      # and cytoplasmic volumes, number of NPCs etc - here we ignore this for now\n",
    "      # - we can change it in future based on theoretical equations of passive diffusion\n",
    "      \"\"\"\n",
    "      # Comment: competition is assumed to have zero effect at this time\n",
    "      fraction_bound_dock_sites_NPC= (self.nmol[\"complexL_NPC\"] + self.nmol[\"complexU_NPC\"]) / self.NPC_dock_sites\n",
    "      competition_multiplier= 1.0 - self.passive_competition_weight * fraction_bound_dock_sites_NPC\n",
    "      f= self.max_passive_diffusion_rate_nmol_per_sec_per_M \\\n",
    "        * competition_multiplier \\\n",
    "        * self.dt_sec\n",
    "      nL= f * self.get_concentration_M(\"freeL_N\")  - f * self.get_concentration_M(\"freeL_C\")\n",
    "      nU= f * self.get_concentration_M(\"freeU_N\")  - f * self.get_concentration_M(\"freeU_C\")      \n",
    "      return {\"freeL_N\": -nL,\n",
    "              \"freeL_C\": +nL,\n",
    "              \"freeU_N\": -nU,\n",
    "              \"freeU_C\": +nU}\n",
    "\n",
    "  def get_nmol_complex_N_C_to_complex_NPC(self):\n",
    "    \"\"\"\n",
    "    Computes the number of molecules that bind to the NPC from the nucleus\n",
    "    over dt_sec time step (These will all be bound to importin)\n",
    "    \n",
    "    Return: dictionary with number of molecules to add/subtract from each species\n",
    "    \"\"\"\n",
    "    nmol_free_sites_NPC = (self.NPC_dock_sites - self.nmol[\"complexL_NPC\"] - self.nmol[\"complexU_NPC\"])\n",
    "    f = nmol_free_sites_NPC \\\n",
    "        * self.rate_complex_to_NPC_per_free_site_per_sec_per_M \\\n",
    "        * self.dt_sec\n",
    "    # TODO: debug - something is weird here (BR Dec 11,2020)\n",
    "    cL_N_M= self.get_concentration_M(\"complexL_N\")\n",
    "    cL_C_M= self.get_concentration_M(\"complexL_C\")\n",
    "    cU_N_M= self.get_concentration_M(\"complexU_N\")\n",
    "    cU_C_M= self.get_concentration_M(\"complexU_C\")\n",
    "    nL_N= f * cL_N_M\n",
    "    nL_C= f * cL_C_M \n",
    "    nU_N= f * cU_N_M \n",
    "    nU_C= f * cU_C_M\n",
    "    assert_coeff= 2.0\n",
    "    assert1_almost= (nL_N+nL_C+nU_N+nU_C <= assert_coeff*nmol_free_sites_NPC) \n",
    "    assert2_almost= (nL_N+nU_N <= assert_coeff*(self.nmol[\"complexL_N\"]+self.nmol[\"complexU_N\"])) \n",
    "    assert3_almost= (nL_C+nU_C <= assert_coeff*(self.nmol[\"complexL_C\"]+self.nmol[\"complexU_C\"]))\n",
    "    if(not (assert1_almost and assert2_almost and assert3_almost)):       \n",
    "      assert1= (nL_N+nL_C+nU_N+nU_C <= nmol_free_sites_NPC) \n",
    "      assert2= (nL_N+nU_N <= self.nmol[\"complexL_N\"]+self.nmol[\"complexU_N\"]) \n",
    "      assert3= (nL_C+nU_C <= self.nmol[\"complexL_C\"]+self.nmol[\"complexU_C\"])\n",
    "      print(self.nmol)\n",
    "      print(f\"f {f} dLabeled: N {nL_N} C {nL_C}, dUnlabeled: N {nU_N} C {nU_C}\")\n",
    "      assert(assert1)\n",
    "      assert(assert2)\n",
    "      assert(assert3)\n",
    "      assert(assert1 and assert2 and assert3)\n",
    "    return {\"complexL_N\": -nL_N,\n",
    "            \"complexL_C\": -nL_C,\n",
    "            \"complexL_NPC\": +nL_N+nL_C,\n",
    "            \"complexU_N\": -nU_N,\n",
    "            \"complexU_C\": -nU_C,\n",
    "            \"complexU_NPC\": +nU_N+nU_C}\n",
    "\n",
    "  def get_nmol_complex_NPC_to_complex_N_C(self):\n",
    "      \"\"\"\n",
    "      Number of complexed cargo-importin released from the NPC to the nucleus and cytoplasm \n",
    "      (assumed 50-50 between nucleus and cytoplasm)\n",
    "\n",
    "      Return: dictionary with number of molecules to add/subtract from each species\n",
    "      \"\"\"\n",
    "      f= self.fraction_complex_NPC_to_complex_N_C_per_sec \\\n",
    "        * self.dt_sec # fractions are fine (conceptually, a random variable)\n",
    "      nL= f * self.nmol[\"complexL_NPC\"] \n",
    "      nU= f * self.nmol[\"complexU_NPC\"] \n",
    "      return {\"complexL_NPC\": -nL,\n",
    "              \"complexL_N\": +0.5*nL,\n",
    "              \"complexL_C\": +0.5*nL,\n",
    "              \"complexU_NPC\": -nU,\n",
    "              \"complexU_N\": +0.5*nU,\n",
    "              \"complexU_C\": +0.5*nU}\n",
    "\n",
    "  def get_nmol_cargo_bleached(self):\n",
    "    '''\n",
    "    Number of bleached molecules over time step in cytoplasm (both free and complexed)\n",
    "\n",
    "    Return: dictionary with number of molecules to add/subtract from each species\n",
    "    '''\n",
    "    global N_A\n",
    "    if self.sim_time_sec <= self.bleach_start_time_sec:\n",
    "      return {}\n",
    "    f= self.bleach_volume_L_per_sec \\\n",
    "      * N_A \\\n",
    "      * self.dt_sec\n",
    "    c_freeL_C_M= self.get_concentration_M('freeL_C')\n",
    "    n_free_C= f * c_freeL_C_M \n",
    "    c_complexL_C_M= self.get_concentration_M('complexL_C')\n",
    "    n_complex_C= f * c_complexL_C_M \n",
    "    #print(f\"Bleaching {n_free_C} free cargo molecules\")\n",
    "    #print(self.nmol[\"freeL_C\"], f)\n",
    "    assert(n_free_C <= self.nmol[\"freeL_C\"])\n",
    "    assert(n_complex_C <= self.nmol[\"complexL_C\"])\n",
    "    return { \"freeL_C\": -n_free_C,\n",
    "            \"complexL_C\": -n_complex_C,\n",
    "             \"freeU_C\": +n_free_C,\n",
    "            \"complexU_C\": +n_complex_C}\n",
    "\n",
    "  ##########################\n",
    "  # Individual update rules:\n",
    "  ########################\n",
    "\n",
    "  def get_nmol_T_summary(self, T_list):\n",
    "      '''\n",
    "      Summarize all transition by summing over a list of dictionaries of transitions\n",
    "\n",
    "      @param T_list a list of dictionaries, each mapping from a molecular species to the change in its counts\n",
    "      @return a dictionary mapping from molecular species to total change in counts\n",
    "      '''\n",
    "      T= {}\n",
    "      for cur_T in T_list:\n",
    "        for key, value in cur_T.items():\n",
    "          if key in T:\n",
    "            T[key] += value\n",
    "          else:\n",
    "            T[key] = value\n",
    "      return T\n",
    "\n",
    "  def do_one_time_step(self):\n",
    "      '''\n",
    "      Update all state variables for the nucleus over a single time step\n",
    "      '''\n",
    "      nmol_prev = self.get_total_cargo_nmol()\n",
    "      # Compute transitions:\n",
    "      T_list= [ \n",
    "        self.get_nmol_complex_NPC_to_free_N(),  \n",
    "        self.get_nmol_complex_N_to_free_N(),\n",
    "        self.get_nmol_GDP_N_to_GTP_N(),\n",
    "        self.get_nmol_GTP_C_to_GDP_C(),\n",
    "        self.get_nmol_GTP_N_to_GTP_C(),\n",
    "        self.get_nmol_GDP_C_to_GDP_N(),\n",
    "        self.get_nmol_complex_C_to_free_C(),\n",
    "        self.get_nmol_free_C_to_complex_C(),\n",
    "        self.get_nmol_free_N_to_complex_N(),\n",
    "        self.get_free_N_to_free_C(),\n",
    "        self.get_nmol_complex_N_C_to_complex_NPC(),\n",
    "        self.get_nmol_complex_NPC_to_complex_N_C(),\n",
    "        self.get_nmol_cargo_bleached() # TODO: bleaching still requires modeling of \"dark\" matter to properly model competition for binding sites on NPC, etc.\n",
    "      ]\n",
    "      T= self.get_nmol_T_summary(T_list)\n",
    "#      print(\"complexL/freeL nmol cytoplasm: {:.1f} {:.1f}\".format(self.nmol[\"complexL_C\"], self.nmol[\"freeL_C\"])) \n",
    "#      print(T)\n",
    "      # Update transitions:\n",
    "      for key, value in T.items():\n",
    "        if (key not in self.nmol):\n",
    "          raise ValueError(f\"can't update non-existent molecular species {key}\")\n",
    "        self.nmol[key] += value \n",
    "        if(self.nmol[key] < 0):\n",
    "            if self.nmol[key]>-0.001:\n",
    "              T[key]= 0.0 \n",
    "            else:\n",
    "              print(f\"Negative key {key} value {self.nmol[key]} change {value}\")\n",
    "              print(T)\n",
    "              print(self.nmol)\n",
    "              assert(self.nmol[key] >= 0)        \n",
    "      # Update simulation clock:\n",
    "      self.sim_time_sec += self.dt_sec\n",
    "\n",
    "  def simulate(self, sim_time_sec, nskip_statistics= 10):\n",
    "    ''' \n",
    "    simulate for approximately (and at least) sim_time_sec seconds\n",
    "    @return actual time simulated\n",
    "    '''\n",
    "    # Computes number of steps and frames\n",
    "    nsteps= int(np.ceil(sim_time_sec/self.dt_sec))\n",
    "    nframes= (nsteps-1)//10 + 1\n",
    "    # Prepare statistics dictionary for all molecule types\n",
    "    stats= { 'time_sec' : np.zeros(nframes) }\n",
    "    for key in self.nmol.keys():\n",
    "      stats[key]= np.zeros(nframes)\n",
    "    for i in range(nsteps):\n",
    "      self.do_one_time_step()\n",
    "      if i % nskip_statistics == 0:\n",
    "        si= i//nskip_statistics\n",
    "        stats['time_sec'][si]= self.sim_time_sec\n",
    "        for key, value in self.nmol.items():\n",
    "          stats[key][si]= value\n",
    "    return stats\n",
    "\n",
    "   ##########################\n",
    "  # Debug utility functions\n",
    "  ########################\n",
    "  def get_total_RAN(self):\n",
    "      RAN = self.nmol[\"GDP_C\"] + self.nmol[\"GTP_C\"] + self.nmol[\"GDP_N\"] + self.nmol[\"GTP_N\"]\n",
    "      return RAN\n",
    "  def get_total_cargoL_nmol(self):\n",
    "      return self.nmol[\"complexL_C\"] + self.nmol[\"freeL_C\"] + \\\n",
    "        self.nmol[\"complexL_N\"] + self.nmol[\"freeL_N\"] + \\\n",
    "        self.nmol[\"complexL_NPC\"] \n",
    "  def get_total_cargoU_nmol(self):\n",
    "      return self.nmol[\"complexU_C\"] + self.nmol[\"freeU_C\"] + \\\n",
    "        self.nmol[\"complexU_N\"] + self.nmol[\"freeU_N\"] + \\\n",
    "        self.nmol[\"complexU_NPC\"]\n",
    "  def get_total_cargo_nmol(self):\n",
    "      return self.get_total_cargoL_nmol() + self.get_total_cargoU_nmol()"
   ]
  },
  {
   "cell_type": "code",
   "execution_count": null,
   "metadata": {},
   "outputs": [],
   "source": []
  },
  {
   "cell_type": "markdown",
   "metadata": {
    "id": "hT1IxvgltqJP"
   },
   "source": [
    "# A few basic sanity checks"
   ]
  },
  {
   "cell_type": "code",
   "execution_count": 422,
   "metadata": {
    "ExecuteTime": {
     "end_time": "2020-12-15T15:55:31.592701Z",
     "start_time": "2020-12-15T15:55:31.580220Z"
    },
    "id": "Z_xyljMutnMy",
    "jupyter": {
     "source_hidden": true
    }
   },
   "outputs": [],
   "source": [
    "def utility_test():\n",
    "  global N_A\n",
    "  ts= TransportSimulation()\n",
    "  assert(ts.get_compartment(\"GTP_N\")==\"N\")\n",
    "  ts.set_concentration_M(\"GTP_C\", 5e-3)\n",
    "  assert(np.isclose(ts.get_concentration_M(\"GTP_C\"), 5e-3))\n",
    "  expected_nmol= ts.get_v_C_L() * 5e-3 * N_A\n",
    "  assert(np.isclose(expected_nmol, ts.get_nmol(\"GTP_C\")))\n",
    "\n",
    "# TODO: Kessem - update all tests\n",
    "\n",
    "def const_test(trans_sim, n):\n",
    "    for i in range(n):\n",
    "      total_RAN =  trans_sim.get_total_RAN()\n",
    "      total_labeled_molecules = trans_sim.get_total_cargo_nmol()\n",
    "\n",
    "      trans_sim.do_one_time_step()\n",
    "\n",
    "      total_RAN_post = trans_sim.get_total_RAN() \n",
    "      total_labeled_molecules_post = trans_sim.get_total_cargo_nmol()\n",
    "      if np.abs(total_RAN - total_RAN_post) > 0.1:\n",
    "        print(\"step \",i)\n",
    "        print(\"RAN: \", total_RAN, total_RAN_post)\n",
    "      if np.abs(total_labeled_molecules - total_labeled_molecules_post) > 0.1:\n",
    "        print(\"step \",i)\n",
    "        print(\"nmol: \", total_labeled_molecules, total_labeled_molecules_post)\n",
    "\n",
    "def const_test_N(trans_sim, n):\n",
    "  for i in range(n):\n",
    "      total_RAN =  trans_sim.get_total_RAN()\n",
    "      total_labeled_molecules = trans_sim.get_total_cargo_nmol()\n",
    "\n",
    "      trans_sim.do_one_time_step()\n",
    "\n",
    "      total_RAN_post = trans_sim.get_total_RAN() \n",
    "      total_labeled_molecules_post = trans_sim.get_total_cargo_nmol()\n",
    "      if total_RAN != total_RAN_post:\n",
    "        print(\"step \",i)\n",
    "        print(\"RAN: \", total_RAN, total_RAN_post)\n",
    "      if total_labeled_molecules != total_labeled_molecules_post:\n",
    "        print(\"step \",i)\n",
    "        print(\"nmol: \", total_labeled_molecules, total_labeled_molecules_post)\n",
    "\n",
    "def const_test_C(trans_sim, n):\n",
    "  for i in range(n):\n",
    "      total_RAN =  trans_sim.get_total_RAN()\n",
    "      total_labeled_molecules = trans_sim.get_total_nmol()\n",
    "\n",
    "      trans_sim.do_one_time_step()\n",
    "      \n",
    "      total_RAN_post = trans_sim.get_total_RAN() \n",
    "      total_labeled_molecules_post = trans_sim.get_total_cargo_nmol()\n",
    "      if abs(total_RAN - total_RAN_post) >= 1:\n",
    "        print(\"step \",i)\n",
    "        print(\"RAN: \", total_RAN, total_RAN_post)\n",
    "      if abs(total_labeled_molecules - total_labeled_molecules_post) >= 1:\n",
    "        print(\"step \",i)\n",
    "        print(\"nmol: \", total_labeled_molecules, total_labeled_molecules_post)\n",
    "        print(\"diff: \", total_labeled_molecules - total_labeled_molecules_post)\n",
    "        print(trans_sim.c_N_M, trans_sim.c_C_M, trans_sim.nmol_NPC)"
   ]
  },
  {
   "cell_type": "code",
   "execution_count": 423,
   "metadata": {
    "ExecuteTime": {
     "end_time": "2020-12-15T15:55:32.172914Z",
     "start_time": "2020-12-15T15:55:32.092378Z"
    },
    "id": "axD0ni1EmJ5b",
    "jupyter": {
     "source_hidden": true
    }
   },
   "outputs": [],
   "source": [
    "utility_test()\n",
    "#importin_binding_rate(fraction_C_b, nmol_GDP_C)\n",
    "ts = TransportSimulation()\n",
    "#ts.update_N()\n",
    "const_test(ts, 1000)\n",
    "\n",
    "\n"
   ]
  },
  {
   "cell_type": "markdown",
   "metadata": {
    "id": "TUmW9lXpUYDr"
   },
   "source": [
    "# Simulation main code"
   ]
  },
  {
   "cell_type": "code",
   "execution_count": 424,
   "metadata": {
    "ExecuteTime": {
     "end_time": "2020-12-15T15:55:32.885524Z",
     "start_time": "2020-12-15T15:55:32.875393Z"
    },
    "id": "STTnUpOGmnSr",
    "jupyter": {
     "source_hidden": true
    }
   },
   "outputs": [],
   "source": [
    "from matplotlib import pyplot as plt\n",
    "\n",
    "def time_series(sim_time_sec, attributes, n_skip=10, **kwargs):\n",
    "  '''\n",
    "  TODO\n",
    "  '''\n",
    "  ts= TransportSimulation(**kwargs)\n",
    "  ts.bleach_start_time_sec= 100.0\n",
    "  ts.dt_sec= 1e-3\n",
    "  n= int(np.ceil(sim_time_sec / ts.dt_sec))\n",
    "  print(f\"Running for n={n} time steps\")\n",
    "  n_frames= int(np.floor(n/n_skip)) + 1 \n",
    "  c_arr = np.zeros((len(attributes), n_frames))\n",
    "  i_frame= 0\n",
    "  print(\"Cargo before: {}\".format(ts.get_total_cargo_nmol()))\n",
    "  for i in range(n):\n",
    "    ts.do_one_time_step()\n",
    "    if (i % n_skip) == 0:\n",
    "      for j, attr in enumerate(attributes):\n",
    "        c_arr[j,i_frame] = ts.get_nmol(attr)\n",
    "      i_frame += 1\n",
    "  print(\"Cargo after: {}\".format(ts.get_total_cargo_nmol()))\n",
    "  return c_arr[:,:-1]\n",
    "\n",
    "\n",
    "def plot_simulation_attributes(sim_time_sec, attributes, n_skip=10, log=True, ax=None, **kwargs):\n",
    "  c = time_series(sim_time_sec, attributes, n_skip= n_skip, **kwargs)\n",
    "  n_frames= c.shape[1]\n",
    "  x = np.arange(n_frames) * sim_time_sec / n_frames\n",
    "  for i, attr in enumerate(attributes):\n",
    "    if ax is None:\n",
    "      plt.plot(x, c[i], label=attr)\n",
    "    else:\n",
    "      ax.plot(x, c[i], label=attr)\n",
    "  if ax is None:\n",
    "    ax= plt.gca()\n",
    "  if log:\n",
    "    ax.set_yscale('log')\n",
    "  ax.set_xlabel(\"time [sec]\")\n",
    "  ax.set_ylabel(\"nmol\")\n",
    "  ax.legend()\n",
    "  if is_log:\n",
    "    ylim= ax.get_ylim()\n",
    "    ylim= (10.0, ylim[1])\n",
    "    ax.set_ylim(ylim)\n",
    "  return c\n"
   ]
  },
  {
   "cell_type": "code",
   "execution_count": 425,
   "metadata": {
    "ExecuteTime": {
     "end_time": "2020-12-15T15:55:34.288218Z",
     "start_time": "2020-12-15T15:55:34.284087Z"
    },
    "id": "lzmLU0YTw74H",
    "jupyter": {
     "source_hidden": true
    }
   },
   "outputs": [],
   "source": [
    "sim_time_sec= 150.0\n",
    "RAN_attributes = ['GDP_N', 'GDP_C', 'GTP_N', 'GTP_C']\n",
    "cargoL_attributes= ['complexL_NPC', 'freeL_N', 'freeL_C', 'complexL_C', 'complexL_N']\n",
    "cargoU_attributes= ['complexU_NPC', 'freeU_N', 'freeU_C', 'complexU_C', 'complexU_N']\n",
    "c_attributes = [\"c_C_M\", \"c_C_M\"]\n",
    "b_attributes = ['fraction_C_b', \"c_C_M\", ]\n",
    "npc_attributes = ['nmol_NPC']\n",
    "dock_attributes = ['c_C_M', 'fraction_C_b', 'nmol_NPC', 'NPC_dock_capacity']\n",
    "\n",
    " "
   ]
  },
  {
   "cell_type": "code",
   "execution_count": null,
   "metadata": {
    "ExecuteTime": {
     "end_time": "2020-12-15T15:55:42.348807Z",
     "start_time": "2020-12-15T15:55:34.771974Z"
    },
    "colab": {
     "base_uri": "https://localhost:8080/",
     "height": 1000
    },
    "id": "HcFrpVqGyUYA",
    "jupyter": {
     "outputs_hidden": true,
     "source_hidden": true
    },
    "outputId": "6eda17e7-207f-4440-e5b7-8ee5561ff8c2"
   },
   "outputs": [
    {
     "name": "stdout",
     "output_type": "stream",
     "text": [
      "Running for n=150000 time steps\n",
      "Cargo before: 301101.00000000006\n",
      "Cargo after: 301101.0000000056\n"
     ]
    },
    {
     "data": {
      "image/png": "[encoded data removed]",
      "text/plain": [
       "<Figure size 720x360 with 1 Axes>"
      ]
     },
     "metadata": {
      "needs_background": "light"
     },
     "output_type": "display_data"
    },
    {
     "name": "stdout",
     "output_type": "stream",
     "text": [
      "Running for n=150000 time steps\n",
      "Cargo before: 301101.00000000006\n"
     ]
    }
   ],
   "source": [
    "\n",
    "is_log= True\n",
    "plt.figure(figsize=(10,5))\n",
    "plot_simulation_attributes(sim_time_sec, RAN_attributes, log= is_log)\n",
    "\n",
    "plt.show()\n",
    "plt.figure(figsize=(10,5))\n",
    "c=plot_simulation_attributes(sim_time_sec, cargoL_attributes, log= is_log)\n",
    "plt.show()\n",
    "plt.figure(figsize=(10,5))\n",
    "c=plot_simulation_attributes(sim_time_sec, cargoU_attributes, log= is_log)\n",
    "plt.show()\n"
   ]
  },
  {
   "cell_type": "code",
   "execution_count": null,
   "metadata": {
    "ExecuteTime": {
     "end_time": "2020-12-15T15:47:26.660995Z",
     "start_time": "2020-12-15T15:47:21.940045Z"
    },
    "colab": {
     "base_uri": "https://localhost:8080/",
     "height": 327
    },
    "id": "XhwtdMILBQRz",
    "jupyter": {
     "outputs_hidden": true,
     "source_hidden": true
    },
    "outputId": "a839a06b-8902-4553-8096-f39b2a9ea16c"
   },
   "outputs": [],
   "source": [
    "\n",
    "fig, ax = plt.subplots(1, 3,figsize=(40,5))\n",
    "c_1 = plot_simulation_attributes(sim_time_sec, cargoL_attributes, log= is_log, ax=ax[0], rate_GDP_N_to_GTP_N_per_sec=0.2)\n",
    "c_2 = plot_simulation_attributes(sim_time_sec, cargoL_attributes, log= is_log, ax=ax[1])\n",
    "ax[2].plot(c_1[-1], label='rate_GDP_N_to_GTP_N_per_sec=0.2')\n",
    "ax[2].plot(c_2[-1], label='rate_GDP_N_to_GTP_N_per_sec=200.0')\n",
    "ax[2].set_title(\"complexL_N\")\n",
    "ax[0].set_title(\"slow GDP_N to GTP_N rate\")\n",
    "ax[1].set_title(\"normal GDP_N to GTP_N rate\")\n",
    "ax[2].legend()"
   ]
  },
  {
   "cell_type": "markdown",
   "metadata": {},
   "source": [
    "## Map parameters phasespace of transport"
   ]
  },
  {
   "cell_type": "code",
   "execution_count": 309,
   "metadata": {
    "ExecuteTime": {
     "end_time": "2020-12-15T16:22:13.434042Z",
     "start_time": "2020-12-15T16:22:13.430658Z"
    }
   },
   "outputs": [],
   "source": [
    "\n",
    "def get_tau_passive_diffusion(nmol_per_sec_per_M, volume_L):\n",
    "    ''' \n",
    "    This utility function computes tau for one-sided passive diffusion\n",
    "    specified in number of molecules per second per M, given\n",
    "    the volume from which the passive diffusion leaves\n",
    "    '''\n",
    "    global N_A\n",
    "    gamma= nmol_per_sec_per_M/N_A/volume_L\n",
    "    tau= 1.0/gamma\n",
    "    return tau\n",
    "\n"
   ]
  },
  {
   "cell_type": "code",
   "execution_count": 427,
   "metadata": {
    "ExecuteTime": {
     "end_time": "2020-12-15T16:22:44.745821Z",
     "start_time": "2020-12-15T16:22:44.735162Z"
    },
    "id": "BhUdzBKH675g"
   },
   "outputs": [],
   "source": [
    "def get_new_transport_simulation():\n",
    "    ts= TransportSimulation( )        \n",
    "#    ts.set_params(rate_GDP_C_to_GDP_N_per_sec=7)   \n",
    "    ts.set_params(dt_sec=1e-3)\n",
    "    return ts"
   ]
  },
  {
   "cell_type": "code",
   "execution_count": null,
   "metadata": {
    "ExecuteTime": {
     "end_time": "2020-12-15T16:22:44.745821Z",
     "start_time": "2020-12-15T16:22:44.735162Z"
    },
    "id": "BhUdzBKH675g"
   },
   "outputs": [],
   "source": []
  },
  {
   "cell_type": "code",
   "execution_count": 428,
   "metadata": {
    "ExecuteTime": {
     "end_time": "2020-12-15T16:22:44.745821Z",
     "start_time": "2020-12-15T16:22:44.735162Z"
    },
    "id": "BhUdzBKH675g"
   },
   "outputs": [],
   "source": [
    "    \n",
    "\n",
    "def map_param_grid(nx,\n",
    "                   ny,\n",
    "                   is_reset= False,  # whether to reset the simulation for every param combination \n",
    "                   equilibration_time_sec= 150.0, # equilibration time per condition\n",
    "                   initial_equilibration_time= 300.0 # relevant only if is_reset is False \n",
    "                  ):\n",
    "    param_range={}\n",
    "    print(f\"nx={nx} ny={ny}\")\n",
    "    epsilon = 1e-9\n",
    "    c_cargo_M= 50e-6 # TODO: fetch this from the simulation\n",
    "    param_range[\"max_passive_diffusion_rate_nmol_per_sec_per_M\"] = \\\n",
    "        np.logspace(3, #0.001+epsilon, \n",
    "                    5, #-epsilon, \n",
    "                    nx) / c_cargo_M # divided by 50E-6 to normalize by the initial cargo concentration # TODO: take the actual cargo concentration?\n",
    "    param_range[\"rate_free_to_complex_per_sec\"] = \\\n",
    "        np.logspace(-3, \n",
    "                    0, #-epsilon, \n",
    "                    ny)\n",
    "    ts= get_new_transport_simulation()\n",
    "    for key in param_range.keys():\n",
    "        print(\"Param {:} default value is {:}\".format(key, getattr(ts, key)))\n",
    "    if not is_reset:\n",
    "        ts.set_params(rate_free_to_complex_per_sec = param_range[\"rate_free_to_complex_per_sec\"][0],\n",
    "                  max_passive_diffusion_rate_nmol_per_sec_per_M  = param_range[\"max_passive_diffusion_rate_nmol_per_sec_per_M\"][0])\n",
    "        ts.simulate(sim_time_sec= initial_equilibration_time, \n",
    "                    nskip_statistics= 200) #get to initial equilibrium, but don't waste time saving statistics\n",
    "    stats_grids = {}\n",
    "    for nmol_type in ts.nmol.keys(): # TODO: add get_nmols()\n",
    "        stats_grids[nmol_type]= np.ndarray((ny, nx)) # Row major - y coordinate goes first\n",
    "    for j in range(ny):\n",
    "    #    print(f\"j={j}\")\n",
    "        # scan the matrix s.t. we only do a small change each time for short equilibration times\n",
    "        if (j%2==0) or is_reset:\n",
    "            i_indices = range(nx)\n",
    "        else:\n",
    "            i_indices = range(nx-1, -1, -1)\n",
    "        for i in i_indices:\n",
    "            print(f\"j={j} i={i}\")\n",
    "            if is_reset:\n",
    "                ts= get_new_transport_simulation()\n",
    "            ts.set_params(max_passive_diffusion_rate_nmol_per_sec_per_M  = param_range[\"max_passive_diffusion_rate_nmol_per_sec_per_M\"][i],\n",
    "                          rate_free_to_complex_per_sec = param_range[\"rate_free_to_complex_per_sec\"][j])        \n",
    "            stats = ts.simulate(equilibration_time_sec)\n",
    "            ts.reset_simulation_time()\n",
    "            for nmol_type in ts.nmol.keys():\n",
    "                try: \n",
    "                    stats_grids[nmol_type][j, i]= stats[nmol_type][-1] # matrix is indexed row first \n",
    "                except KeyError:\n",
    "                    print(f\"Key {nmol_type} not found\")\n",
    "    return param_range, stats_grids\n",
    "        "
   ]
  },
  {
   "cell_type": "code",
   "execution_count": 429,
   "metadata": {
    "ExecuteTime": {
     "start_time": "2020-12-15T16:22:45.220Z"
    },
    "id": "Edd4bveu5jph"
   },
   "outputs": [
    {
     "name": "stdout",
     "output_type": "stream",
     "text": [
      "nx=9 ny=12\n",
      "Param max_passive_diffusion_rate_nmol_per_sec_per_M default value is 20000\n",
      "Param rate_free_to_complex_per_sec default value is 0.1\n",
      "j=0 i=0\n",
      "j=0 i=1\n",
      "j=0 i=2\n",
      "j=0 i=3\n",
      "j=0 i=4\n",
      "j=0 i=5\n",
      "j=0 i=6\n",
      "j=0 i=7\n",
      "j=0 i=8\n",
      "j=1 i=0\n",
      "j=1 i=1\n",
      "j=1 i=2\n",
      "j=1 i=3\n",
      "j=1 i=4\n",
      "j=1 i=5\n",
      "j=1 i=6\n",
      "j=1 i=7\n",
      "j=1 i=8\n",
      "j=2 i=0\n",
      "j=2 i=1\n",
      "j=2 i=2\n",
      "j=2 i=3\n",
      "j=2 i=4\n",
      "j=2 i=5\n",
      "j=2 i=6\n",
      "j=2 i=7\n",
      "j=2 i=8\n",
      "j=3 i=0\n",
      "j=3 i=1\n",
      "j=3 i=2\n",
      "j=3 i=3\n",
      "j=3 i=4\n",
      "j=3 i=5\n",
      "j=3 i=6\n",
      "j=3 i=7\n",
      "j=3 i=8\n",
      "j=4 i=0\n",
      "j=4 i=1\n",
      "j=4 i=2\n",
      "j=4 i=3\n",
      "j=4 i=4\n",
      "j=4 i=5\n",
      "j=4 i=6\n",
      "j=4 i=7\n",
      "j=4 i=8\n",
      "j=5 i=0\n",
      "j=5 i=1\n",
      "j=5 i=2\n",
      "j=5 i=3\n",
      "j=5 i=4\n",
      "j=5 i=5\n",
      "j=5 i=6\n",
      "j=5 i=7\n",
      "j=5 i=8\n",
      "j=6 i=0\n",
      "j=6 i=1\n",
      "j=6 i=2\n",
      "j=6 i=3\n",
      "j=6 i=4\n",
      "j=6 i=5\n",
      "j=6 i=6\n",
      "j=6 i=7\n",
      "j=6 i=8\n",
      "j=7 i=0\n",
      "j=7 i=1\n",
      "j=7 i=2\n",
      "j=7 i=3\n",
      "j=7 i=4\n",
      "j=7 i=5\n",
      "j=7 i=6\n",
      "j=7 i=7\n",
      "j=7 i=8\n",
      "j=8 i=0\n",
      "j=8 i=1\n",
      "j=8 i=2\n",
      "j=8 i=3\n",
      "j=8 i=4\n",
      "j=8 i=5\n",
      "j=8 i=6\n",
      "j=8 i=7\n",
      "j=8 i=8\n",
      "j=9 i=0\n",
      "j=9 i=1\n",
      "j=9 i=2\n",
      "j=9 i=3\n",
      "j=9 i=4\n",
      "j=9 i=5\n",
      "j=9 i=6\n",
      "j=9 i=7\n",
      "j=9 i=8\n",
      "j=10 i=0\n",
      "j=10 i=1\n",
      "j=10 i=2\n",
      "j=10 i=3\n",
      "j=10 i=4\n",
      "j=10 i=5\n",
      "j=10 i=6\n",
      "j=10 i=7\n",
      "j=10 i=8\n",
      "j=11 i=0\n",
      "j=11 i=1\n",
      "j=11 i=2\n",
      "j=11 i=3\n",
      "j=11 i=4\n",
      "j=11 i=5\n",
      "j=11 i=6\n",
      "j=11 i=7\n",
      "j=11 i=8\n"
     ]
    }
   ],
   "source": [
    "def get_N_to_C_ratios(stats_grids, v_N_L, v_C_L):\n",
    "    ''' return N/C ratios from stats_grids computed in the previous cell'''\n",
    "    nNs= stats_grids[\"complexL_N\"]+stats_grids[\"freeL_N\"]+stats_grids[\"complexU_N\"]+stats_grids[\"freeU_N\"] \n",
    "    nCs= stats_grids[\"complexL_C\"]+stats_grids[\"freeL_C\"]+stats_grids[\"complexU_C\"]+stats_grids[\"freeU_C\"]\n",
    "    ratios= (nNs/v_N_L) / (nCs/v_C_L)\n",
    "    return ratios\n",
    "\n",
    "param_range, stats_grids= map_param_grid(nx= 9,\n",
    "                                        ny= 12,\n",
    "                                        is_reset=True, \n",
    "                                        equilibration_time_sec= 100.0)\n",
    "ratios= get_N_to_C_ratios(stats_grids, \n",
    "                          v_N_L= ts.get_v_N_L(), \n",
    "                          v_C_L= ts.get_v_C_L())"
   ]
  },
  {
   "cell_type": "code",
   "execution_count": 430,
   "metadata": {
    "ExecuteTime": {
     "end_time": "2020-12-15T15:57:58.025028Z",
     "start_time": "2020-12-15T15:57:58.019574Z"
    },
    "id": "Edd4bveu5jph"
   },
   "outputs": [
    {
     "name": "stdout",
     "output_type": "stream",
     "text": [
      "[[ 1.25986933  1.16957379  1.09593913  1.0524917   1.02936153  1.01647369\n",
      "   1.00922656  1.00515103  1.00285914]\n",
      " [ 1.45921111  1.30283811  1.17601093  1.09805073  1.05497006  1.03084306\n",
      "   1.01727421  1.00964327  1.00535187]\n",
      " [ 1.84295734  1.55447855  1.32585521  1.18318454  1.10282988  1.05769993\n",
      "   1.03231479  1.01803734  1.0100078 ]\n",
      " [ 2.59314605  2.03075639  1.60552256  1.34177118  1.19201715  1.10775719\n",
      "   1.06034575  1.03367512  1.01867421]\n",
      " [ 4.07219639  2.92694871  2.12280749  1.63477933  1.35700673  1.20041062\n",
      "   1.11222345  1.06259187  1.03466923]\n",
      " [ 6.83321528  4.53720219  3.04728431  2.16160252  1.65510003  1.36817633\n",
      "   1.20616294  1.11484489  1.06342598]\n",
      " [10.24222862  6.75039982  4.42464521  2.98681615  2.13512745  1.64190873\n",
      "   1.35987549  1.19976744  1.1092493 ]\n",
      " [ 8.00906903  6.31172851  4.70854315  3.40798732  2.47675668  1.86784353\n",
      "   1.4929855   1.27072771  1.14187715]\n",
      " [ 4.12874122  3.77630425  3.31023553  2.77381951  2.24675002  1.80345852\n",
      "   1.47685576  1.2589668   1.12307967]\n",
      " [ 2.54760385  2.45977007  2.32469842  2.13453276  1.89755206  1.64329431\n",
      "   1.41075834  1.22716038  1.09832571]\n",
      " [ 1.87392135  1.846568    1.80144721  1.73074756  1.62841637  1.49608818\n",
      "   1.34780745  1.20608249  1.08978434]\n",
      " [ 1.55636083  1.54625248  1.52897971  1.50030749  1.45492515  1.38823378\n",
      "   1.30018294  1.19900712  1.0997258 ]]\n"
     ]
    }
   ],
   "source": [
    "print(ratios)"
   ]
  },
  {
   "cell_type": "code",
   "execution_count": 439,
   "metadata": {
    "ExecuteTime": {
     "end_time": "2020-12-15T15:58:30.584732Z",
     "start_time": "2020-12-15T15:58:30.156635Z"
    },
    "id": "XQvFv3M-NYJN"
   },
   "outputs": [
    {
     "name": "stdout",
     "output_type": "stream",
     "text": [
      "[1.e+06 1.e+07 1.e+08 1.e+09 1.e+10 1.e+11]\n"
     ]
    },
    {
     "data": {
      "image/png": "[encoded data removed]",
      "text/plain": [
       "<Figure size 432x288 with 2 Axes>"
      ]
     },
     "metadata": {
      "needs_background": "light"
     },
     "output_type": "display_data"
    },
    {
     "data": {
      "image/png": "[encoded data removed]",
      "text/plain": [
       "<Figure size 432x288 with 2 Axes>"
      ]
     },
     "metadata": {
      "needs_background": "light"
     },
     "output_type": "display_data"
    }
   ],
   "source": [
    "import matplotlib.ticker as mtick\n",
    "vmax=4\n",
    "x_meshgrid, y_meshgrid = np.meshgrid(param_range[\"max_passive_diffusion_rate_nmol_per_sec_per_M\"],\n",
    "                                     param_range[\"rate_free_to_complex_per_sec\"])\n",
    "plt.figure()\n",
    "ax=plt.gca()\n",
    "plt.imshow(ratios, vmin=1, vmax=vmax)\n",
    "xlim= ax.get_xlim()\n",
    "ylim= ax.get_ylim()\n",
    "ax.set_xlim(xlim[1], xlim[0])\n",
    "ax.set_ylim(ylim[1], ylim[0])\n",
    "cb = plt.colorbar(label=\"N/C ratio\")\n",
    "ticks = cb.get_ticks()\n",
    "cb.set_ticks(ticks)\n",
    "##### Contourf\n",
    "plt.figure()\n",
    "plt.contourf(x_meshgrid, y_meshgrid, ratios, vmin=1.0, vmax=vmax, levels=np.linspace(1.0,vmax,21), extend='both')\n",
    "ax= plt.gca()\n",
    "ax.set_xscale('log')\n",
    "ax.set_yscale('log')\n",
    "#ax.set_yscale('log')\n",
    "ax.set_xlabel(r\"passive diffusion rate [$s^{-1} M^{-1}$]\")\n",
    "ax.set_ylabel(\"importin binding rate [$s^{-1}$]\")\n",
    "xlim= ax.get_xlim()\n",
    "ylim= ax.get_ylim()\n",
    "ax.set_xlim(xlim[1], xlim[0])\n",
    "#ax.set_ylim(ylim[1], ylim[0])\n",
    "print(ax.get_xticks())\n",
    "#ax.set_xticklabels([\"{:.1f}\".format(xtick) for xtick in param_range[\"max_passive_diffusion_rate_nmol_per_sec_per_M\"]])\n",
    "#ax.set_yticklabels([\"{:.2f}\".format(ytick) for ytick in param_range[\"rate_free_C_to_complex_C_per_sec\"]])\n",
    "cb = plt.colorbar(label=\"N/C ratio\")\n",
    "ticks = cb.get_ticks()\n",
    "cb.set_ticks(ticks)\n",
    "\n",
    "#ax.xaxis.set_major_formatter(mtick.FormatStrFormatter(\"%.1f\"))\n",
    "#ax.yaxis.set_major_formatter(mtick.FormatStrFormatter(\"%.1f\"))\n",
    "\n",
    "#cb.set_ticklabels([f'{tick:.0e}' for tick in np.exp(ticks)])\n",
    "\n"
   ]
  },
  {
   "cell_type": "code",
   "execution_count": 441,
   "metadata": {
    "ExecuteTime": {
     "end_time": "2020-12-15T14:25:34.766616Z",
     "start_time": "2020-12-15T14:25:34.335084Z"
    }
   },
   "outputs": [
    {
     "name": "stdout",
     "output_type": "stream",
     "text": [
      "[1.e+06 1.e+07 1.e+08 1.e+09 1.e+10 1.e+11]\n"
     ]
    },
    {
     "data": {
      "image/png": "[encoded data removed]",
      "text/plain": [
       "<Figure size 432x288 with 2 Axes>"
      ]
     },
     "metadata": {
      "needs_background": "light"
     },
     "output_type": "display_data"
    }
   ],
   "source": [
    "complexL_N_fraction= stats_grids[\"complexL_N\"]/(stats_grids[\"complexL_N\"]+stats_grids[\"freeL_N\"])\n",
    "complexL_C_fraction= stats_grids[\"complexL_C\"]/(stats_grids[\"complexL_C\"]+stats_grids[\"freeL_C\"])\n",
    "\n",
    "\n",
    "##### Contourf\n",
    "vmax=1.0\n",
    "plt.figure()\n",
    "plt.contourf(x_meshgrid, y_meshgrid, complexL_N_fraction, \n",
    "             vmin=0.0, vmax=vmax, levels=np.linspace(0,vmax,11), extend='both')\n",
    "ax= plt.gca()\n",
    "ax.set_xscale('log')\n",
    "ax.set_yscale('log')\n",
    "#ax.set_yscale('log')\n",
    "ax.set_xlabel(r\"passive diffusion rate [$s^{-1} M^{-1}$]\")\n",
    "ax.set_ylabel(\"importin binding rate [$s^{-1}$]\")\n",
    "xlim= ax.get_xlim()\n",
    "ylim= ax.get_ylim()\n",
    "ax.set_xlim(xlim[1], xlim[0])\n",
    "#ax.set_ylim(ylim[1], ylim[0])\n",
    "print(ax.get_xticks())\n",
    "#ax.set_xticklabels([\"{:.1f}\".format(xtick) for xtick in param_range[\"max_passive_diffusion_rate_nmol_per_sec_per_M\"]])\n",
    "#ax.set_yticklabels([\"{:.2f}\".format(ytick) for ytick in param_range[\"rate_free_C_to_complex_C_per_sec\"]])\n",
    "cb = plt.colorbar(label=\"bound fraction (N)\")\n",
    "ticks = cb.get_ticks()\n",
    "cb.set_ticks(ticks)\n",
    "\n",
    "#ax.xaxis.set_major_formatter(mtick.FormatStrFormatter(\"%.1f\"))\n",
    "#ax.yaxis.set_major_formatter(mtick.FormatStrFormatter(\"%.1f\"))\n",
    "\n",
    "#cb.set_ticklabels([f'{tick:.0e}' for tick in np.exp(ticks)])\n"
   ]
  },
  {
   "cell_type": "code",
   "execution_count": null,
   "metadata": {},
   "outputs": [],
   "source": [
    "\n"
   ]
  },
  {
   "cell_type": "code",
   "execution_count": null,
   "metadata": {
    "ExecuteTime": {
     "end_time": "2020-12-15T13:19:36.522646Z",
     "start_time": "2020-12-15T13:19:29.324303Z"
    }
   },
   "outputs": [],
   "source": []
  },
  {
   "cell_type": "code",
   "execution_count": null,
   "metadata": {},
   "outputs": [],
   "source": []
  },
  {
   "cell_type": "code",
   "execution_count": null,
   "metadata": {},
   "outputs": [],
   "source": []
  },
  {
   "cell_type": "code",
   "execution_count": null,
   "metadata": {},
   "outputs": [],
   "source": []
  },
  {
   "cell_type": "code",
   "execution_count": null,
   "metadata": {},
   "outputs": [],
   "source": []
  },
  {
   "cell_type": "code",
   "execution_count": null,
   "metadata": {},
   "outputs": [],
   "source": []
  },
  {
   "cell_type": "code",
   "execution_count": null,
   "metadata": {},
   "outputs": [],
   "source": []
  },
  {
   "cell_type": "code",
   "execution_count": null,
   "metadata": {},
   "outputs": [],
   "source": []
  }
 ],
 "metadata": {
  "colab": {
   "collapsed_sections": [],
   "name": "NPC FLIP simulations Pere & Ion.ipynb",
   "provenance": []
  },
  "kernelspec": {
   "display_name": "Python 3",
   "language": "python",
   "name": "python3"
  },
  "language_info": {
   "codemirror_mode": {
    "name": "ipython",
    "version": 3
   },
   "file_extension": ".py",
   "mimetype": "text/x-python",
   "name": "python",
   "nbconvert_exporter": "python",
   "pygments_lexer": "ipython3",
   "version": "3.6.12"
  }
 },
 "nbformat": 4,
 "nbformat_minor": 4
}
