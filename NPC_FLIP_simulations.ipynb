{
 "cells": [
  {
   "cell_type": "markdown",
   "metadata": {
    "id": "0dYkHdxwg_v_"
   },
   "source": [
    "# Model variables - legend:"
   ]
  },
  {
   "cell_type": "markdown",
   "metadata": {
    "id": "3tkGWF-iszq5"
   },
   "source": [
    "complexL/U - importin-cargo complex, labeled (L) or unlabeled (U) \n",
    "\n",
    "freeL/U - free cargo, labeled (L) or unlabeled (U) \n",
    "\n",
    "c - concentration\n",
    "\n",
    "v - volume\n",
    "\n",
    "C - cytoplasm\n",
    "\n",
    "N - nucleues\n",
    "\n",
    "NPC - nuclear pore complex\n",
    "\n",
    "nmol - number of molecules\n",
    "\n",
    "M - molar (moles per liter)\n",
    "\n",
    "L - liter\n",
    "\n",
    "fL - femtoliter\n"
   ]
  },
  {
   "cell_type": "code",
   "execution_count": 348,
   "metadata": {
    "id": "qJdluKoeElzE"
   },
   "outputs": [
    {
     "name": "stdout",
     "output_type": "stream",
     "text": [
      "Registering <function TransportSimulation.get_free_N_to_free_C at 0x7fbbaba68840>\n",
      "Registering <function TransportSimulation.get_nmol_GDP_C_to_GDP_N at 0x7fbbaba68620>\n",
      "Registering <function TransportSimulation.get_nmol_GDP_N_to_GTP_N at 0x7fbbaba68488>\n",
      "Registering <function TransportSimulation.get_nmol_GTP_C_to_GDP_C at 0x7fbbaba68510>\n",
      "Registering <function TransportSimulation.get_nmol_GTP_N_to_GTP_C at 0x7fbbaba68598>\n",
      "Registering <function TransportSimulation.get_nmol_cargo_bleached at 0x7fbbaba68a60>\n",
      "Registering <function TransportSimulation.get_nmol_complex_C_to_free_C at 0x7fbbaba686a8>\n",
      "Registering <function TransportSimulation.get_nmol_complex_NPC_to_complex_N_C at 0x7fbbaba689d8>\n",
      "Registering <function TransportSimulation.get_nmol_complex_NPC_to_free_N at 0x7fbbaba68378>\n",
      "Registering <function TransportSimulation.get_nmol_complex_NPC_traverse at 0x7fbbaba68950>\n",
      "Registering <function TransportSimulation.get_nmol_complex_N_C_to_complex_NPC at 0x7fbbaba688c8>\n",
      "Registering <function TransportSimulation.get_nmol_complex_N_to_free_N at 0x7fbbaba68400>\n",
      "Registering <function TransportSimulation.get_nmol_free_C_to_complex_C at 0x7fbbaba68730>\n",
      "Registering <function TransportSimulation.get_nmol_free_N_to_complex_N at 0x7fbbaba687b8>\n"
     ]
    }
   ],
   "source": [
    "import importlib\n",
    "import transport_simulation\n",
    "from transport_simulation import TransportSimulation\n",
    "importlib.reload(transport_simulation)\n",
    "import transport_simulation\n",
    "from transport_simulation import TransportSimulation\n"
   ]
  },
  {
   "cell_type": "markdown",
   "metadata": {
    "id": "TUmW9lXpUYDr"
   },
   "source": [
    "# Simulation main code"
   ]
  },
  {
   "cell_type": "code",
   "execution_count": 349,
   "metadata": {
    "ExecuteTime": {
     "end_time": "2020-12-15T15:55:32.885524Z",
     "start_time": "2020-12-15T15:55:32.875393Z"
    },
    "id": "STTnUpOGmnSr",
    "jupyter": {
     "source_hidden": true
    }
   },
   "outputs": [],
   "source": [
    "from matplotlib import pyplot as plt\n",
    "import numpy as np\n",
    "\n",
    "def time_series(sim_time_sec, attributes, n_skip=10, dt_sec=1e-3, **kwargs):\n",
    "  '''\n",
    "  TODO\n",
    "  '''\n",
    "  ts= TransportSimulation(**kwargs)\n",
    "  ts.bleach_start_time_sec= 100.0\n",
    "  ts.dt_sec= dt_sec\n",
    "  n= int(np.ceil(sim_time_sec / ts.dt_sec))\n",
    "  print(f\"Running for n={n} time steps\")\n",
    "  n_frames= int(np.floor(n/n_skip)) + 1 \n",
    "  c_arrs = {attr: np.zeros(n_frames) for attr in attributes}\n",
    "  i_frame= 0\n",
    "  print(\"Cargo before: {}\".format(ts.get_total_cargo_nmol()))\n",
    "  for i in range(n):\n",
    "    ts.do_one_time_step()\n",
    "    if (i % n_skip) == 0:\n",
    "      for attr in attributes:\n",
    "        c_arrs[attr][i_frame] = ts.get_nmol(attr)\n",
    "      i_frame += 1\n",
    "  print(\"Cargo after: {}\".format(ts.get_total_cargo_nmol()))\n",
    "  return c_arrs\n",
    "\n",
    "\n",
    "def plot_simulation_attributes(sim_time_sec, \n",
    "                               attributes_list, \n",
    "                               dt_sec,\n",
    "                               n_skip=10, \n",
    "                               log=True, \n",
    "                               **kwargs):\n",
    "  def merge_lists(lists):\n",
    "      return [x for y in lists for x in y]\n",
    "  attributes= merge_lists(attributes_list)\n",
    "  assert(len(attributes) == sum([len(x) for x in attributes_list]))\n",
    "  c = time_series(sim_time_sec, \n",
    "                  attributes, \n",
    "                  n_skip= n_skip,\n",
    "                  dt_sec= dt_sec,\n",
    "                  **kwargs)\n",
    "  fig, axes= plt.subplots(3,1, figsize=(10,15), squeeze= False)\n",
    "  for cur_attributes, ax in zip(attributes_list, axes[:,0]):\n",
    "      print(cur_attributes)\n",
    "      for attr in cur_attributes:\n",
    "        cur_c= c[attr]\n",
    "        n_frames= len(cur_c)\n",
    "        x = np.arange(n_frames) * sim_time_sec / n_frames\n",
    "        ax.plot(x, cur_c, label=attr)\n",
    "      if log:\n",
    "        ax.set_yscale('log')\n",
    "      ax.set_xlabel(\"time [sec]\")\n",
    "      ax.set_ylabel(\"nmol\")\n",
    "      ax.legend()\n",
    "      if is_log:\n",
    "        ylim= ax.get_ylim()\n",
    "        ylim= (10.0, ylim[1])\n",
    "        ax.set_ylim(ylim)\n",
    "  return axes, x, c\n"
   ]
  },
  {
   "cell_type": "code",
   "execution_count": 354,
   "metadata": {
    "ExecuteTime": {
     "end_time": "2020-12-15T15:55:34.288218Z",
     "start_time": "2020-12-15T15:55:34.284087Z"
    },
    "id": "lzmLU0YTw74H",
    "jupyter": {
     "source_hidden": true
    }
   },
   "outputs": [],
   "source": [
    "sim_time_sec= 150.0\n",
    "RAN_attributes = ['GDP_N', 'GDP_C', 'GTP_N', 'GTP_C']\n",
    "cargoL_attributes= ['complexL_NPC_C_import', 'complexL_NPC_C_export',\n",
    "                    'complexL_NPC_N_import', 'complexL_NPC_N_export',\n",
    "                    'freeL_N', 'freeL_C', 'complexL_C', 'complexL_N']\n",
    "cargoU_attributes= ['complexU_NPC_C_import', 'complexU_NPC_C_export', \n",
    "                    'complexU_NPC_N_import', 'complexU_NPC_N_export',\n",
    "                    'freeU_N', 'freeU_C', 'complexU_C', 'complexU_N']\n",
    "c_attributes = [\"c_C_M\", \"c_C_M\"]\n",
    "b_attributes = ['fraction_C_b', \"c_C_M\", ]\n",
    "npc_attributes = ['nmol_NPC']\n",
    "dock_attributes = ['c_C_M', 'fraction_C_b', 'nmol_NPC', 'NPC_dock_capacity']\n",
    "\n",
    " "
   ]
  },
  {
   "cell_type": "code",
   "execution_count": 355,
   "metadata": {
    "ExecuteTime": {
     "end_time": "2020-12-15T15:55:42.348807Z",
     "start_time": "2020-12-15T15:55:34.771974Z"
    },
    "colab": {
     "base_uri": "https://localhost:8080/",
     "height": 1000
    },
    "id": "HcFrpVqGyUYA",
    "jupyter": {
     "outputs_hidden": true,
     "source_hidden": true
    },
    "outputId": "6eda17e7-207f-4440-e5b7-8ee5561ff8c2"
   },
   "outputs": [
    {
     "name": "stdout",
     "output_type": "stream",
     "text": [
      "Running for n=150000 time steps\n",
      "Cargo before: 301100.00000000006\n",
      "Cargo after: 301099.9999999986\n",
      "['GDP_N', 'GDP_C', 'GTP_N', 'GTP_C']\n",
      "['complexL_NPC_C_import', 'complexL_NPC_C_export', 'complexL_NPC_N_import', 'complexL_NPC_N_export', 'freeL_N', 'freeL_C', 'complexL_C', 'complexL_N']\n",
      "['complexU_NPC_C_import', 'complexU_NPC_C_export', 'complexU_NPC_N_import', 'complexU_NPC_N_export', 'freeU_N', 'freeU_C', 'complexU_C', 'complexU_N']\n"
     ]
    },
    {
     "data": {
      "image/png": "[encoded data removed]",
      "text/plain": [
       "<Figure size 720x1080 with 3 Axes>"
      ]
     },
     "metadata": {
      "needs_background": "light"
     },
     "output_type": "display_data"
    }
   ],
   "source": [
    "is_log= False\n",
    "ax, x, c= plot_simulation_attributes(sim_time_sec, \n",
    "                           [ RAN_attributes, \n",
    "                             cargoL_attributes, \n",
    "                             cargoU_attributes ],\n",
    "                            log= is_log,\n",
    "                            dt_sec=1e-3)"
   ]
  },
  {
   "cell_type": "code",
   "execution_count": 356,
   "metadata": {
    "ExecuteTime": {
     "end_time": "2020-12-15T15:55:42.348807Z",
     "start_time": "2020-12-15T15:55:34.771974Z"
    },
    "colab": {
     "base_uri": "https://localhost:8080/",
     "height": 1000
    },
    "id": "HcFrpVqGyUYA",
    "jupyter": {
     "outputs_hidden": true,
     "source_hidden": true
    },
    "outputId": "6eda17e7-207f-4440-e5b7-8ee5561ff8c2"
   },
   "outputs": [
    {
     "name": "stdout",
     "output_type": "stream",
     "text": [
      "dict_keys(['GDP_N', 'GDP_C', 'GTP_N', 'GTP_C', 'complexL_NPC_C_import', 'complexL_NPC_C_export', 'complexL_NPC_N_import', 'complexL_NPC_N_export', 'freeL_N', 'freeL_C', 'complexL_C', 'complexL_N', 'complexU_NPC_C_import', 'complexU_NPC_C_export', 'complexU_NPC_N_import', 'complexU_NPC_N_export', 'freeU_N', 'freeU_C', 'complexU_C', 'complexU_N'])\n"
     ]
    },
    {
     "data": {
      "text/plain": [
       "[<matplotlib.lines.Line2D at 0x7fbb0797a0f0>]"
      ]
     },
     "execution_count": 356,
     "metadata": {},
     "output_type": "execute_result"
    },
    {
     "data": {
      "image/png": "[encoded data removed]",
      "text/plain": [
       "<Figure size 432x288 with 1 Axes>"
      ]
     },
     "metadata": {
      "needs_background": "light"
     },
     "output_type": "display_data"
    }
   ],
   "source": [
    "print(c.keys())\n",
    "fig,ax= plt.subplots(1,1)\n",
    "ax.plot(x, \n",
    "        c['complexL_NPC_C_import']+\n",
    "        c['complexL_NPC_C_export']+ \n",
    "        c['complexL_NPC_N_import']+\n",
    "        c['complexL_NPC_N_export'])\n",
    "#plt.show()\n",
    "#plt.figure(figsize=(10,5))\n",
    "#c=plot_simulation_attributes(sim_time_sec, cargoL_attributes, log= is_log)\n",
    "#plt.show()\n",
    "#plt.figure(figsize=(10,5))\n",
    "#c=plot_simulation_attributes(sim_time_sec, cargoU_attributes, log= is_log)\n",
    "#plt.show()"
   ]
  },
  {
   "cell_type": "code",
   "execution_count": null,
   "metadata": {},
   "outputs": [],
   "source": []
  },
  {
   "cell_type": "code",
   "execution_count": 357,
   "metadata": {
    "ExecuteTime": {
     "end_time": "2020-12-15T15:47:26.660995Z",
     "start_time": "2020-12-15T15:47:21.940045Z"
    },
    "colab": {
     "base_uri": "https://localhost:8080/",
     "height": 327
    },
    "id": "XhwtdMILBQRz",
    "jupyter": {
     "outputs_hidden": true,
     "source_hidden": true
    },
    "outputId": "a839a06b-8902-4553-8096-f39b2a9ea16c"
   },
   "outputs": [
    {
     "ename": "TypeError",
     "evalue": "plot_simulation_attributes() missing 1 required positional argument: 'dt_sec'",
     "output_type": "error",
     "traceback": [
      "\u001b[0;31m---------------------------------------------------------------------------\u001b[0m",
      "\u001b[0;31mTypeError\u001b[0m                                 Traceback (most recent call last)",
      "\u001b[0;32m<ipython-input-357-f35f5b41530e>\u001b[0m in \u001b[0;36m<module>\u001b[0;34m\u001b[0m\n\u001b[1;32m      1\u001b[0m \u001b[0;31m#fig, ax = plt.subplots(1, 3,figsize=(40,5))\u001b[0m\u001b[0;34m\u001b[0m\u001b[0;34m\u001b[0m\u001b[0;34m\u001b[0m\u001b[0m\n\u001b[0;32m----> 2\u001b[0;31m \u001b[0maxes0\u001b[0m \u001b[0;34m=\u001b[0m \u001b[0mplot_simulation_attributes\u001b[0m\u001b[0;34m(\u001b[0m\u001b[0msim_time_sec\u001b[0m\u001b[0;34m,\u001b[0m \u001b[0;34m[\u001b[0m\u001b[0mcargoL_attributes\u001b[0m\u001b[0;34m]\u001b[0m\u001b[0;34m,\u001b[0m \u001b[0mlog\u001b[0m\u001b[0;34m=\u001b[0m \u001b[0mis_log\u001b[0m\u001b[0;34m,\u001b[0m \u001b[0mrate_GDP_N_to_GTP_N_per_sec\u001b[0m\u001b[0;34m=\u001b[0m\u001b[0;36m0.2\u001b[0m\u001b[0;34m)\u001b[0m\u001b[0;34m\u001b[0m\u001b[0;34m\u001b[0m\u001b[0m\n\u001b[0m\u001b[1;32m      3\u001b[0m \u001b[0maxes0\u001b[0m\u001b[0;34m[\u001b[0m\u001b[0;36m0\u001b[0m\u001b[0;34m,\u001b[0m\u001b[0;36m0\u001b[0m\u001b[0;34m]\u001b[0m\u001b[0;34m.\u001b[0m\u001b[0mset_title\u001b[0m\u001b[0;34m(\u001b[0m\u001b[0;34m\"slow GDP_N to GTP_N rate\"\u001b[0m\u001b[0;34m)\u001b[0m\u001b[0;34m\u001b[0m\u001b[0;34m\u001b[0m\u001b[0m\n\u001b[1;32m      4\u001b[0m \u001b[0maxes1\u001b[0m \u001b[0;34m=\u001b[0m \u001b[0mplot_simulation_attributes\u001b[0m\u001b[0;34m(\u001b[0m\u001b[0msim_time_sec\u001b[0m\u001b[0;34m,\u001b[0m \u001b[0;34m[\u001b[0m\u001b[0mcargoL_attributes\u001b[0m\u001b[0;34m]\u001b[0m\u001b[0;34m,\u001b[0m \u001b[0mlog\u001b[0m\u001b[0;34m=\u001b[0m \u001b[0mis_log\u001b[0m\u001b[0;34m)\u001b[0m\u001b[0;34m\u001b[0m\u001b[0;34m\u001b[0m\u001b[0m\n\u001b[1;32m      5\u001b[0m \u001b[0maxes1\u001b[0m\u001b[0;34m[\u001b[0m\u001b[0;36m0\u001b[0m\u001b[0;34m,\u001b[0m\u001b[0;36m0\u001b[0m\u001b[0;34m]\u001b[0m\u001b[0;34m.\u001b[0m\u001b[0mset_title\u001b[0m\u001b[0;34m(\u001b[0m\u001b[0;34m\"normal GDP_N to GTP_N rate\"\u001b[0m\u001b[0;34m)\u001b[0m\u001b[0;34m\u001b[0m\u001b[0;34m\u001b[0m\u001b[0m\n",
      "\u001b[0;31mTypeError\u001b[0m: plot_simulation_attributes() missing 1 required positional argument: 'dt_sec'"
     ]
    }
   ],
   "source": [
    "\n",
    "#fig, ax = plt.subplots(1, 3,figsize=(40,5))\n",
    "axes0, _, _ = plot_simulation_attributes(sim_time_sec, \n",
    "                                   [cargoL_attributes], \n",
    "                                   log= is_log, rate_GDP_N_to_GTP_N_per_sec=0.2,\n",
    "                                  dt_sec= 1e-3)\n",
    "axes0[0,0].set_title(\"slow GDP_N to GTP_N rate\")\n",
    "axes1 = plot_simulation_attributes(sim_time_sec, [cargoL_attributes], \n",
    "                                   log= is_log,\n",
    "                                  dt_sec= 1e-3)\n",
    "axes1[0,0].set_title(\"normal GDP_N to GTP_N rate\")\n",
    "fig, ax2= fig.subplots(1,1)\n",
    "ax2.plot(c_1[-1], label='rate_GDP_N_to_GTP_N_per_sec=0.2')\n",
    "ax2.plot(c_2[-1], label='rate_GDP_N_to_GTP_N_per_sec=200.0')\n",
    "ax2.set_title(\"complexL_N\")\n",
    "ax2.legend()"
   ]
  },
  {
   "cell_type": "markdown",
   "metadata": {},
   "source": [
    "## Map parameters phasespace of transport"
   ]
  },
  {
   "cell_type": "code",
   "execution_count": null,
   "metadata": {
    "ExecuteTime": {
     "end_time": "2020-12-15T16:22:13.434042Z",
     "start_time": "2020-12-15T16:22:13.430658Z"
    }
   },
   "outputs": [],
   "source": [
    "\n",
    "def get_tau_passive_diffusion(nmol_per_sec_per_M, volume_L):\n",
    "    ''' \n",
    "    This utility function computes tau for one-sided passive diffusion\n",
    "    specified in number of molecules per second per M, given\n",
    "    the volume from which the passive diffusion leaves\n",
    "    '''\n",
    "    global N_A\n",
    "    gamma= nmol_per_sec_per_M/N_A/volume_L\n",
    "    tau= 1.0/gamma\n",
    "    return tau\n",
    "\n"
   ]
  },
  {
   "cell_type": "code",
   "execution_count": null,
   "metadata": {
    "ExecuteTime": {
     "end_time": "2020-12-15T16:22:44.745821Z",
     "start_time": "2020-12-15T16:22:44.735162Z"
    },
    "id": "BhUdzBKH675g"
   },
   "outputs": [],
   "source": [
    "def get_new_transport_simulation(**kwargs):\n",
    "    ts= TransportSimulation(**kwargs)        \n",
    "#    ts.set_params(rate_GDP_C_to_GDP_N_per_sec=7)   \n",
    "    ts.set_params(dt_sec=1e-3)\n",
    "    return ts"
   ]
  },
  {
   "cell_type": "code",
   "execution_count": null,
   "metadata": {
    "ExecuteTime": {
     "end_time": "2020-12-15T16:22:44.745821Z",
     "start_time": "2020-12-15T16:22:44.735162Z"
    },
    "id": "BhUdzBKH675g"
   },
   "outputs": [],
   "source": [
    "import multiprocessing\n",
    "\n",
    "def mp_do_simulation(param_range, i, j, \n",
    "                     equilibration_time_sec):\n",
    "    init_params= {\"Ran_cell_M\": 20e-6}\n",
    "    my_ts= get_new_transport_simulation(**init_params)\n",
    "    my_ts.set_params(max_passive_diffusion_rate_nmol_per_sec_per_M  = param_range[\"max_passive_diffusion_rate_nmol_per_sec_per_M\"][i],\n",
    "              fraction_complex_NPC_traverse_per_sec = param_range[\"rate_free_to_complex_per_sec\"][j])        \n",
    "    stats = my_ts.simulate(equilibration_time_sec)   \n",
    "    return {\"i\":i, \"j\":j, \"stats\":stats}\n",
    "\n",
    "def mp_handle_stats(stats_grids, mydicts):\n",
    "    for mydict in mydicts:\n",
    "        i= mydict[\"i\"]\n",
    "        j= mydict[\"j\"]\n",
    "        stats= mydict[\"stats\"]\n",
    "#        print(\"My Handle - \", i, j)\n",
    "        for nmol_type in stats.keys():\n",
    "            if nmol_type==\"time_sec\":\n",
    "                continue\n",
    "            try: \n",
    "                pass\n",
    "                stats_grids[nmol_type][j, i]= stats[nmol_type][-1] # matrix is indexed row first \n",
    "            except KeyError:\n",
    "                print(f\"my_handle_stats - Key {nmol_type} not found\")\n",
    "            except IndexError as e:\n",
    "                print(e)\n",
    "\n",
    "def mp_handle_error(error):\n",
    "    print(\"Error\", error)\n",
    "    \n",
    "def map_param_grid_parallel(nx,\n",
    "                   ny,\n",
    "                   equilibration_time_sec= 150.0, # equilibration time per condition\n",
    "                   initial_equilibration_time= 300.0, # relevant only if is_reset is False \n",
    "                   n_processors= 5\n",
    "                  ):\n",
    "    param_range={}\n",
    "    print(f\"nx={nx} ny={ny}\")\n",
    "    epsilon = 1e-9\n",
    "    c_cargo_M= 50e-6 # TODO: fetch this from the simulation\n",
    "    param_range[\"max_passive_diffusion_rate_nmol_per_sec_per_M\"] = \\\n",
    "        np.logspace(3, #0.001+epsilon, \n",
    "                    5, #-epsilon, \n",
    "                    nx) / c_cargo_M # divided by 50E-6 to normalize by the initial cargo concentration # TODO: take the actual cargo concentration?\n",
    "    param_range[\"rate_free_to_complex_per_sec\"] = \\\n",
    "        np.logspace(-3, \n",
    "                    2, #-epsilon, \n",
    "                    ny)\n",
    "    ts= get_new_transport_simulation(fraction_complex_NPC_traverse_per_sec=1.)\n",
    "    for key in param_range.keys():\n",
    "        print(\"Param {:} default value is {:}\".format(key, getattr(ts, key)))\n",
    "    stats_grids = {}\n",
    "    for nmol_type in ts.nmol.keys(): # TODO: add get_nmols()\n",
    "        stats_grids[nmol_type]= np.ndarray((ny, nx)) # Row major - y coordinate goes first\n",
    "    jobs_params= []\n",
    "    for j in range(ny):\n",
    "        for i in range(nx):\n",
    "            jobs_params.append((param_range.copy(),\n",
    "                                i,\n",
    "                                j,\n",
    "                                equilibration_time_sec))\n",
    "    print(\"njobs={}\".format(len(jobs_params)))\n",
    "    callback_function = \\\n",
    "        lambda mydict: mp_handle_stats(stats_grids, mydict)\n",
    "    pool= multiprocessing.Pool(processes= n_processors)\n",
    "    results= pool.starmap_async(mp_do_simulation,\n",
    "                               jobs_params,\n",
    "                               callback= callback_function,\n",
    "                               error_callback=mp_handle_error)\n",
    "    results.wait()\n",
    "    pool.close()\n",
    "    pool.join()\n",
    "    return param_range, stats_grids\n"
   ]
  },
  {
   "cell_type": "code",
   "execution_count": null,
   "metadata": {
    "ExecuteTime": {
     "end_time": "2020-12-15T16:22:44.745821Z",
     "start_time": "2020-12-15T16:22:44.735162Z"
    },
    "id": "BhUdzBKH675g"
   },
   "outputs": [],
   "source": [
    "ts = get_new_transport_simulation()"
   ]
  },
  {
   "cell_type": "code",
   "execution_count": null,
   "metadata": {
    "ExecuteTime": {
     "start_time": "2020-12-15T16:22:45.220Z"
    },
    "id": "Edd4bveu5jph"
   },
   "outputs": [],
   "source": [
    "def get_N_to_C_ratios(stats_grids, v_N_L, v_C_L):\n",
    "    ''' return N/C ratios from stats_grids computed in the previous cell'''\n",
    "    nNs= stats_grids[\"complexL_N\"]+stats_grids[\"freeL_N\"]+stats_grids[\"complexU_N\"]+stats_grids[\"freeU_N\"] \n",
    "    nCs= stats_grids[\"complexL_C\"]+stats_grids[\"freeL_C\"]+stats_grids[\"complexU_C\"]+stats_grids[\"freeU_C\"]\n",
    "    ratios= (nNs/v_N_L) / (nCs/v_C_L)\n",
    "    return ratios\n",
    "\n",
    "param_range, stats_grids= map_param_grid_parallel(nx= 5,\n",
    "                                        ny= 8,\n",
    "#                                       is_reset=True, \n",
    "                                        equilibration_time_sec= 100.0,\n",
    "                                        n_processors=6)\n",
    "ratios= get_N_to_C_ratios(stats_grids, \n",
    "                          v_N_L= ts.get_v_N_L(), \n",
    "                          v_C_L= ts.get_v_C_L())"
   ]
  },
  {
   "cell_type": "code",
   "execution_count": null,
   "metadata": {
    "ExecuteTime": {
     "end_time": "2020-12-15T15:57:58.025028Z",
     "start_time": "2020-12-15T15:57:58.019574Z"
    },
    "id": "Edd4bveu5jph"
   },
   "outputs": [],
   "source": [
    "def get_import_export_ratios(stats_grids):\n",
    "    ''' return import/export ratios from stats_grids computed in the previous cell'''\n",
    "    import_rate= stats_grids[\"import_L\"]+stats_grids[\"import_U\"]\n",
    "    export_rate= stats_grids[\"export_L\"]+stats_grids[\"export_U\"]\n",
    "    ratios= import_rate/export_rate\n",
    "    return ratios\n",
    "\n",
    "if False:\n",
    "    ratios_import_export= get_import_export_ratios(stats_grids)"
   ]
  },
  {
   "cell_type": "code",
   "execution_count": null,
   "metadata": {
    "ExecuteTime": {
     "end_time": "2020-12-15T15:58:30.584732Z",
     "start_time": "2020-12-15T15:58:30.156635Z"
    },
    "id": "XQvFv3M-NYJN"
   },
   "outputs": [],
   "source": [
    "import matplotlib.pyplot as plt\n",
    "import matplotlib.ticker as mtick\n",
    "vmax=4\n",
    "x_meshgrid, y_meshgrid = np.meshgrid(param_range[\"max_passive_diffusion_rate_nmol_per_sec_per_M\"],\n",
    "                                     param_range[\"rate_free_to_complex_per_sec\"])\n",
    "plt.figure()\n",
    "ax=plt.gca()\n",
    "plt.imshow(ratios, vmin=1, vmax=vmax)\n",
    "xlim= ax.get_xlim()\n",
    "ylim= ax.get_ylim()\n",
    "ax.set_xlim(xlim[1], xlim[0])\n",
    "ax.set_ylim(ylim[1], ylim[0])\n",
    "cb = plt.colorbar(label=\"N/C ratio\")\n",
    "ticks = cb.get_ticks()\n",
    "cb.set_ticks(ticks)\n",
    "##### Contourf\n",
    "plt.figure()\n",
    "plt.contourf(x_meshgrid, y_meshgrid, ratios, vmin=1.0, vmax=vmax, levels=np.linspace(1.0,vmax,21), extend='both')\n",
    "ax= plt.gca()\n",
    "ax.set_xscale('log')\n",
    "ax.set_yscale('log')\n",
    "#ax.set_yscale('log')\n",
    "ax.set_xlabel(r\"passive diffusion rate [$s^{-1} M^{-1}$]\")\n",
    "ax.set_ylabel(\"importin binding rate [$s^{-1}$]\")\n",
    "xlim= ax.get_xlim()\n",
    "ylim= ax.get_ylim()\n",
    "ax.set_xlim(xlim[1], xlim[0])\n",
    "#ax.set_ylim(ylim[1], ylim[0])\n",
    "print(ax.get_xticks())\n",
    "#ax.set_xticklabels([\"{:.1f}\".format(xtick) for xtick in param_range[\"max_passive_diffusion_rate_nmol_per_sec_per_M\"]])\n",
    "#ax.set_yticklabels([\"{:.2f}\".format(ytick) for ytick in param_range[\"rate_free_C_to_complex_C_per_sec\"]])\n",
    "cb = plt.colorbar(label=\"N/C ratio\")\n",
    "ticks = cb.get_ticks()\n",
    "cb.set_ticks(ticks)\n",
    "\n",
    "#ax.xaxis.set_major_formatter(mtick.FormatStrFormatter(\"%.1f\"))\n",
    "#ax.yaxis.set_major_formatter(mtick.FormatStrFormatter(\"%.1f\"))\n",
    "\n",
    "#cb.set_ticklabels([f'{tick:.0e}' for tick in np.exp(ticks)])\n",
    "\n"
   ]
  },
  {
   "cell_type": "code",
   "execution_count": null,
   "metadata": {},
   "outputs": [],
   "source": [
    "multiprocessing.cpu_count()"
   ]
  },
  {
   "cell_type": "code",
   "execution_count": null,
   "metadata": {
    "ExecuteTime": {
     "end_time": "2020-12-15T14:25:34.766616Z",
     "start_time": "2020-12-15T14:25:34.335084Z"
    }
   },
   "outputs": [],
   "source": [
    "for compartment in ['N', 'C']:\n",
    "    tag_complex= f\"complexL_{compartment}\"\n",
    "    tag_free= f\"freeL_{compartment}\"\n",
    "    complexL_fraction= stats_grids[tag_complex]/(stats_grids[tag_complex]+stats_grids[tag_free])\n",
    "    ##### Contourf\n",
    "    vmax=1.0\n",
    "    plt.figure()\n",
    "    plt.contourf(x_meshgrid, y_meshgrid, complexL_fraction, \n",
    "                 vmin=0.0, vmax=vmax, levels=np.linspace(0,vmax,11), extend='both')\n",
    "    ax= plt.gca()\n",
    "    ax.set_xscale('log')\n",
    "    ax.set_yscale('log')\n",
    "    ax.set_xlabel(r\"passive diffusion rate [$s^{-1} M^{-1}$]\")\n",
    "    ax.set_ylabel(\"importin binding rate [$s^{-1}$]\")\n",
    "    xlim= ax.get_xlim()\n",
    "    ylim= ax.get_ylim()\n",
    "    ax.set_xlim(xlim[1], xlim[0])\n",
    "    #ax.set_ylim(ylim[1], ylim[0])\n",
    "    print(ax.get_xticks())\n",
    "    \n",
    "    cb = plt.colorbar()#label=f\"bound fraction ({compartment})\")\n",
    "    ax.set_title(f\"bound fraction ({compartment})\")\n",
    "    ticks = cb.get_ticks()\n",
    "    cb.set_ticks(ticks)\n"
   ]
  },
  {
   "cell_type": "code",
   "execution_count": null,
   "metadata": {},
   "outputs": [],
   "source": [
    "def get_ts_parameters(MW=27, NLS_strength=0, force=False, **kwargs):\n",
    "    ts = TransportSimulation(**kwargs)\n",
    "    diffusion_rate = get_diffusion_rate(MW)\n",
    "    free_to_complex_rate = get_free_to_complex_rate(NLS_strength)\n",
    "    ts.set_passive_diffusion_rate_per_sec(diffusion_rate)\n",
    "    ts.set_params(rate_free_to_complex_per_sec=free_to_complex_rate)\n",
    "\n",
    "    if force:\n",
    "        diffusion_rate += get_force_effect_on_diffusion(MW)\n",
    "        force_effect = get_force_effect_on_import(MW, NLS_strength)\n",
    "        NPC_transport_rate = ts.fraction_complex_NPC_traverse_per_sec + force_effect\n",
    "        ts.set_params(fraction_complex_NPC_traverse_per_sec=NPC_transport_rate)\n",
    "    return ts\n",
    "\n",
    "def get_free_to_complex_rate(NLS_strength):\n",
    "    rates = [0.00, #0.07\n",
    "             0.2, #2.11\n",
    "             0.3  #16.4\n",
    "            ]\n",
    "    return rates[NLS_strength]\n",
    "\n",
    "def get_diffusion_rate(MW):\n",
    "    #TODO: generalize this - either from the literature or regression\n",
    "    rates = {27:0.07624291, 41:0.0560286, 54:0.03452787, 67:0.03022162}\n",
    "    return rates[MW]\n",
    "\n",
    "def get_force_effect_on_diffusion(MW):\n",
    "    \"\"\"\n",
    "    The effect of force on passive diffusion as measured by experiment\n",
    "    \"\"\"\n",
    "    effects = {27:0.08698999,\n",
    "               41:0.03395035,\n",
    "               54:-0.00019152,\n",
    "               67:0.00177338}\n",
    "    return effects[MW]\n",
    "\n",
    "def get_force_effect_on_import(MW, NLS_strength):\n",
    "    NPC_transport_rates = {}\n",
    "    NPC_transport_rates[27] = [0, 0.2, 0.5]\n",
    "    NPC_transport_rates[41] = [0, 0.2, 0.5]\n",
    "    NPC_transport_rates[54] = [0, 0.2, 0.5]\n",
    "    NPC_transport_rates[67] = [0, 0.2, 0.5]\n",
    "    return NPC_transport_rates[MW][NLS_strength]\n"
   ]
  },
  {
   "cell_type": "code",
   "execution_count": null,
   "metadata": {},
   "outputs": [],
   "source": [
    "\n",
    "import matplotlib.pyplot as plt\n",
    "for i in range(1,3):\n",
    "    ts = get_ts_parameters(NLS_strength=i, fraction_complex_NPC_to_free_N_per_M_GTP_per_sec=0.005e7)\n",
    "    #ts.set_params(dt_sec=1e-3)\n",
    "    stats = ts.simulate(50)\n",
    "    plt.plot(stats['import_L'][20000:], label=i)\n",
    "plt.title(\"Active import\")\n",
    "_=plt.legend()"
   ]
  },
  {
   "cell_type": "code",
   "execution_count": null,
   "metadata": {
    "ExecuteTime": {
     "end_time": "2020-12-15T13:19:36.522646Z",
     "start_time": "2020-12-15T13:19:29.324303Z"
    }
   },
   "outputs": [],
   "source": [
    "plt.plot(stats['complexL_NPC_N_import'] +\n",
    "        stats['complexL_NPC_N_export'] +\n",
    "        stats['complexL_NPC_C_import'] +\n",
    "        stats['complexL_NPC_C_export'])"
   ]
  },
  {
   "cell_type": "code",
   "execution_count": null,
   "metadata": {},
   "outputs": [],
   "source": []
  },
  {
   "cell_type": "code",
   "execution_count": null,
   "metadata": {},
   "outputs": [],
   "source": []
  },
  {
   "cell_type": "code",
   "execution_count": null,
   "metadata": {},
   "outputs": [],
   "source": []
  },
  {
   "cell_type": "code",
   "execution_count": null,
   "metadata": {},
   "outputs": [],
   "source": []
  },
  {
   "cell_type": "code",
   "execution_count": null,
   "metadata": {},
   "outputs": [],
   "source": []
  },
  {
   "cell_type": "code",
   "execution_count": null,
   "metadata": {},
   "outputs": [],
   "source": []
  },
  {
   "cell_type": "code",
   "execution_count": null,
   "metadata": {},
   "outputs": [],
   "source": []
  }
 ],
 "metadata": {
  "colab": {
   "collapsed_sections": [],
   "name": "NPC FLIP simulations Pere & Ion.ipynb",
   "provenance": []
  },
  "kernelspec": {
   "display_name": "Python 3",
   "language": "python",
   "name": "python3"
  },
  "language_info": {
   "codemirror_mode": {
    "name": "ipython",
    "version": 3
   },
   "file_extension": ".py",
   "mimetype": "text/x-python",
   "name": "python",
   "nbconvert_exporter": "python",
   "pygments_lexer": "ipython3",
   "version": "3.6.12"
  }
 },
 "nbformat": 4,
 "nbformat_minor": 4
}
